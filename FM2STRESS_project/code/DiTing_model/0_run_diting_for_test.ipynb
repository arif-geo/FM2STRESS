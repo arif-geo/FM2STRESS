{
 "cells": [
  {
   "cell_type": "code",
   "execution_count": 8,
   "metadata": {},
   "outputs": [],
   "source": [
    "import os\n",
    "\n",
    "# os.system(\"1_get_waveforms.py\")"
   ]
  },
  {
   "cell_type": "code",
   "execution_count": 9,
   "metadata": {},
   "outputs": [],
   "source": [
    "# os.system(\"2_mseed2sac.py\")"
   ]
  },
  {
   "cell_type": "code",
   "execution_count": 10,
   "metadata": {},
   "outputs": [],
   "source": [
    "cwd = os.getcwd()\n",
    "\n",
    "# os.system(f\"python3 {cwd}/3_convert_hyperinverse_to_hash_phase.py\")\n"
   ]
  },
  {
   "cell_type": "code",
   "execution_count": 11,
   "metadata": {},
   "outputs": [],
   "source": [
    "# os.system(f\"python3 {cwd}/4_DiTingMotion_on_ridgecrest.py\")"
   ]
  },
  {
   "cell_type": "code",
   "execution_count": 12,
   "metadata": {},
   "outputs": [],
   "source": [
    "# os.system(\"5_convert_to_hashpy_station.py\")"
   ]
  },
  {
   "cell_type": "code",
   "execution_count": 13,
   "metadata": {},
   "outputs": [],
   "source": [
    "# os.system(\"6_runhash.py\")"
   ]
  },
  {
   "cell_type": "raw",
   "metadata": {},
   "source": [
    "######### packages #########\n",
    "import obspy\n",
    "from obspy import read, UTCDateTime, Stream\n",
    "import numpy as np\n",
    "import tensorflow as tf\n",
    "from keras import backend as K\n",
    "import matplotlib.pyplot as plt\n",
    "\n",
    "######### system #########\n",
    "import os\n",
    "import sys\n",
    "import argparse as ap\n",
    "\n",
    "# cut data path\n",
    "# sys.path.insert(0, './cut/2019070404031.48') # add parent directory to path\n",
    "\n",
    "args_m = './models/DiTingMotionJul.hdf5'\n",
    "motion_model =tf.keras.models.load_model(args_m,compile=False)\n",
    "\n",
    "arrival_time = UTCDateTime(\"2019 07 04 04 03 00\")\n",
    "p_pick = arrival_time + 2 # 10 seconds after the arrival time\n",
    "print(p_pick)\n",
    "\n",
    "evdir = './cut/2019070404031.48'\n",
    "t_st=Stream()\n",
    "# try:\n",
    "t_st = read(evdir+ \"/*Z.sac\")\n",
    "\n",
    "# except:\n",
    "#     pass\n",
    "t_st.detrend('demean')\n",
    "try:\n",
    "    t_st.detrend(type='linear')\n",
    "except:\n",
    "    t_st.detrend(type='constant')\n",
    "t_st = t_st.taper(0.001)\n",
    "\n",
    "t_st=t_st[1].slice(p_pick - 0.64, p_pick + 0.64)\n",
    "print(len(t_st))\n",
    "\n",
    "\n",
    "motion_input = np.zeros([1, 128, 2]) # 1 trace, 128 samples, 2 components\n",
    "motion_input[0, :, 0] = t_st.data[0:128] # Z component \n",
    "\n",
    "# normalize the data by subtracting the mean and dividing by the standard deviation\n",
    "if np.max(motion_input[0, :, 0]) == 0:\n",
    "        pass\n",
    "else:\n",
    "        motion_input[0, :, 0] -= np.mean(motion_input[0, :, 0]) # subtract the mean to center the data around 0\n",
    "        norm_factor = np.std(motion_input[0, :, 0]) # calculate the standard deviation\n",
    "\n",
    "        if norm_factor == 0:\n",
    "            pass\n",
    "        else:\n",
    "            motion_input[0, :, 0] /= norm_factor # divide by the standard deviation to normalize the data\n",
    "            diff_data = np.diff(motion_input[0, 64:, 0])\n",
    "            diff_sign_data = np.sign(diff_data)\n",
    "            motion_input[0, 65:, 1] = diff_sign_data[:]\n",
    "pred_res = motion_model.predict(motion_input)\n",
    "pred_fmp = (pred_res['T0D0'] + pred_res['T0D1'] + pred_res['T0D2'] + pred_res['T0D3']) / 4\n",
    "pred_cla = (pred_res['T1D0'] + pred_res['T1D1'] + pred_res['T1D2'] + pred_res['T1D3']) / 4\n",
    "\n",
    "# print(pred_fmp, pred_cla)\n",
    "\n",
    "print(pred_fmp[0, :])\n",
    "print(np.argmax(pred_fmp[0, :]))\n",
    "\n",
    "\"\"\"\n",
    "if the 1st index is the maximum, then the polarity is UP/positive (+1)\n",
    "or, if the 2nd index is the maximum, then the polarity is DOWN/negative (-1)\n",
    "otherwise, the polarity is x [the 3rd index is the maximum, undecided (0/x)]\n",
    "\"\"\"\n",
    "if np.argmax(pred_fmp[0, :]) == 1:    \n",
    "    polarity = 'D'\n",
    "\n",
    "elif np.argmax(pred_fmp[0, :]) == 0:\n",
    "    polarity = 'U'\n",
    "\n",
    "else:\n",
    "    polarity = 'x'\n",
    "\n",
    "print(polarity)"
   ]
  },
  {
   "cell_type": "code",
   "execution_count": 14,
   "metadata": {},
   "outputs": [
    {
     "name": "stdout",
     "output_type": "stream",
     "text": [
      "nc71993336.mseed\n"
     ]
    }
   ],
   "source": [
    "######### packages #########\n",
    "import obspy\n",
    "from obspy import read, UTCDateTime, Stream\n",
    "import numpy as np\n",
    "import pandas as pd\n",
    "import tensorflow as tf\n",
    "from keras import backend as K\n",
    "import matplotlib.pyplot as plt\n",
    "\n",
    "######### system #########\n",
    "import os\n",
    "import sys\n",
    "import argparse as ap\n",
    "\n",
    "# cut data path\n",
    "# sys.path.insert(0, './cut/2019070404031.48') # add parent directory to path\n",
    "\n",
    "# input files\n",
    "args_m = './models/DiTingMotionJul.hdf5'\n",
    "evdir = '../../data/eq_data/all_data'\n",
    "phasenet_picks = '../../data/eq_data/all_data/phasenet_files/phasenet_phasepick_datetime.csv'\n",
    "# mseed files list\n",
    "mseed_list = [fname for fname in os.listdir(evdir) if fname.endswith('.mseed')]\n",
    "print(mseed_list[0])"
   ]
  },
  {
   "cell_type": "code",
   "execution_count": 15,
   "metadata": {},
   "outputs": [
    {
     "name": "stdout",
     "output_type": "stream",
     "text": [
      "BK.GASB.00.HH\n"
     ]
    },
    {
     "data": {
      "text/html": [
       "<div>\n",
       "<style scoped>\n",
       "    .dataframe tbody tr th:only-of-type {\n",
       "        vertical-align: middle;\n",
       "    }\n",
       "\n",
       "    .dataframe tbody tr th {\n",
       "        vertical-align: top;\n",
       "    }\n",
       "\n",
       "    .dataframe thead th {\n",
       "        text-align: right;\n",
       "    }\n",
       "</style>\n",
       "<table border=\"1\" class=\"dataframe\">\n",
       "  <thead>\n",
       "    <tr style=\"text-align: right;\">\n",
       "      <th></th>\n",
       "      <th>station_id</th>\n",
       "      <th>begin_time</th>\n",
       "      <th>phase_index</th>\n",
       "      <th>phase_time</th>\n",
       "      <th>phase_score</th>\n",
       "      <th>phase_type</th>\n",
       "      <th>file_name</th>\n",
       "      <th>phase_amplitude</th>\n",
       "      <th>phase_amp</th>\n",
       "    </tr>\n",
       "  </thead>\n",
       "  <tbody>\n",
       "    <tr>\n",
       "      <th>0</th>\n",
       "      <td>BK.GASB.00.HH</td>\n",
       "      <td>2013-05-17 23:14:24.840</td>\n",
       "      <td>4039</td>\n",
       "      <td>2013-05-17 23:15:05.230</td>\n",
       "      <td>0.799</td>\n",
       "      <td>P</td>\n",
       "      <td>nc71993336.mseed</td>\n",
       "      <td>1459.634521</td>\n",
       "      <td>1459.634521</td>\n",
       "    </tr>\n",
       "  </tbody>\n",
       "</table>\n",
       "</div>"
      ],
      "text/plain": [
       "      station_id              begin_time  phase_index              phase_time  \\\n",
       "0  BK.GASB.00.HH 2013-05-17 23:14:24.840         4039 2013-05-17 23:15:05.230   \n",
       "\n",
       "   phase_score phase_type         file_name  phase_amplitude    phase_amp  \n",
       "0        0.799          P  nc71993336.mseed      1459.634521  1459.634521  "
      ]
     },
     "execution_count": 15,
     "metadata": {},
     "output_type": "execute_result"
    }
   ],
   "source": [
    "motion_model =tf.keras.models.load_model(args_m,compile=False)\n",
    "phasenet_df = pd.read_csv(phasenet_picks, parse_dates=['begin_time','phase_time'])\n",
    "# select only phase_type = 'P', and phase_score > 0.75\n",
    "phasenet_df = phasenet_df[(phasenet_df.phase_type == 'P') & (phasenet_df.phase_score > 0.75)].reset_index(drop=True)\n",
    "phasenet_df = phasenet_df[phasenet_df.file_name == mseed_list[0]]\n",
    "sel_ev = phasenet_df[0:1]\n",
    "print(sel_ev.station_id[0])\n",
    "sel_ev"
   ]
  },
  {
   "cell_type": "code",
   "execution_count": 115,
   "metadata": {},
   "outputs": [
    {
     "name": "stdout",
     "output_type": "stream",
     "text": [
      "BK.GASB.00.HHZ BK.GASB.00.HH\n"
     ]
    },
    {
     "data": {
      "image/png": "[encoded data removed]",
      "text/plain": [
       "<Figure size 900x200 with 1 Axes>"
      ]
     },
     "metadata": {},
     "output_type": "display_data"
    }
   ],
   "source": [
    "import matplotlib.dates as mdates\n",
    "\n",
    "p_pick = UTCDateTime(phasenet_df.phase_time[0])\n",
    "st = read(evdir + '/' + mseed_list[0])\n",
    "\n",
    "# Find the relevant trace\n",
    "for tr in st:\n",
    "    if tr.id == sel_ev.station_id[0]+'Z' and tr.stats.channel[-1] == 'Z':\n",
    "        t_st = tr.copy()                    # Make a copy of the trace\n",
    "        t_st.detrend('demean')              # Remove mean\n",
    "        try:\n",
    "            t_st.detrend(type='linear')     # Remove trend if possible\n",
    "        except:\n",
    "            t_st.detrend(type='constant')   # Remove trend if linear fails\n",
    "        t_st = t_st.taper(0.001)            # Apply a taper\n",
    "        t_st = t_st.slice(p_pick - 0.63, p_pick + 0.64)                              # Cut the trace around the P-pick for 128 samples\n",
    "        t_st.filter('bandpass', freqmin=0.5, freqmax=20, corners=4, zerophase=True)  # Apply a bandpass filter\n",
    "        break  # Exit the loop once you find the trace\n",
    "\n",
    "\n",
    "# Generate time axis \n",
    "times = np.arange(t_st.stats.starttime, t_st.stats.endtime + t_st.stats.delta, t_st.stats.delta)\n",
    "\n",
    "# Convert to matplotlib's numerical dates \n",
    "times = mdates.date2num(times)\n",
    "\n",
    "# Plot the trace\n",
    "fig, ax = plt.subplots(1, 1, figsize=(9, 2))\n",
    "ax.plot(times, t_st.data, 'k', lw=0.9)\n",
    "ax.set_title(f\"{t_st.id}\")\n",
    "\n",
    "# Format x-axis ticks\n",
    "ax.xaxis.set_major_formatter(mdates.DateFormatter('%H:%M:%S.%f'))\n",
    "ax.xaxis.set_major_locator(mdates.MicrosecondLocator(interval=5e5))\n",
    "\n",
    "# round x labels to 2 decimal places\n",
    "ax.set_xticks(ax.get_xticks()[1:-1:1]) # start, stop, step\n",
    "ax.set_xticklabels([mdates.num2date(x).strftime('%H:%M:%S.%f')[:-4] for x in ax.get_xticks()])\n",
    "\n",
    "\n",
    "# Add the pick time (assuming p_pick is a UTCDateTime object)\n",
    "p_pick_mpl = mdates.date2num(p_pick)  # Convert to matplotlib format\n",
    "ax.axvline(p_pick_mpl, color='r', linestyle='--', linewidth=1, label='P-pick')\n",
    "ax.axhline(0, color='k', ls='-', linewidth=0.5)\n",
    "ax.legend()\n",
    "\n",
    "\n",
    "plt.show()"
   ]
  },
  {
   "cell_type": "code",
   "execution_count": 116,
   "metadata": {},
   "outputs": [],
   "source": [
    "motion_input = np.zeros([1, 128, 2]) # 1 trace, 128 samples, 2 components\n",
    "if len(t_st) == len(motion_input[0, :, 0]):\n",
    "    motion_input[0, :, 0] = t_st.data[0:128] # Z component "
   ]
  },
  {
   "cell_type": "code",
   "execution_count": 117,
   "metadata": {},
   "outputs": [],
   "source": [
    "\n",
    "# normalize the data by subtracting the mean and dividing by the standard deviation\n",
    "if np.max(motion_input[0, :, 0]) == 0: # if the maximum value is 0, then the data is empty\n",
    "        pass\n",
    "else:\n",
    "        motion_input[0, :, 0] -= np.mean(motion_input[0, :, 0]) # subtract the mean to center the data around 0\n",
    "        norm_factor = np.std(motion_input[0, :, 0]) # calculate the standard deviation\n",
    "\n",
    "        if norm_factor == 0: # if the standard deviation is 0, then the data is empty\n",
    "            pass\n",
    "        else:\n",
    "            motion_input[0, :, 0] /= norm_factor # divide by the standard deviation to normalize the data\n",
    "            diff_data = np.diff(motion_input[0, 64:, 0])\n",
    "            diff_sign_data = np.sign(diff_data)\n",
    "            motion_input[0, 65:, 1] = diff_sign_data[:]\n",
    "            \n"
   ]
  },
  {
   "cell_type": "code",
   "execution_count": 118,
   "metadata": {},
   "outputs": [
    {
     "name": "stdout",
     "output_type": "stream",
     "text": [
      "1/1 [==============================] - 1s 672ms/step\n",
      "[0.9760827  0.01105797 0.00133237]\n",
      "0\n"
     ]
    }
   ],
   "source": [
    "pred_res = motion_model.predict(motion_input)\n",
    "pred_fmp = (pred_res['T0D0'] + pred_res['T0D1'] + pred_res['T0D2'] + pred_res['T0D3']) / 4\n",
    "pred_cla = (pred_res['T1D0'] + pred_res['T1D1'] + pred_res['T1D2'] + pred_res['T1D3']) / 4\n",
    "\n",
    "# print(pred_fmp, pred_cla)\n",
    "\n",
    "print(pred_fmp[0, :])\n",
    "print(np.argmax(pred_fmp[0, :]))"
   ]
  },
  {
   "cell_type": "code",
   "execution_count": 119,
   "metadata": {},
   "outputs": [
    {
     "name": "stdout",
     "output_type": "stream",
     "text": [
      "U\n"
     ]
    }
   ],
   "source": [
    "\n",
    "\"\"\"\n",
    "if the 1st index is the maximum, then the polarity is UP/positive (+1)\n",
    "or, if the 2nd index is the maximum, then the polarity is DOWN/negative (-1)\n",
    "otherwise, the polarity is x [the 3rd index is the maximum, undecided (0/x)]\n",
    "\"\"\"\n",
    "if np.argmax(pred_fmp[0, :]) == 1:    \n",
    "    polarity = 'D'\n",
    "\n",
    "elif np.argmax(pred_fmp[0, :]) == 0:\n",
    "    polarity = 'U'\n",
    "\n",
    "else:\n",
    "    polarity = 'x'\n",
    "\n",
    "print(polarity)"
   ]
  }
 ],
 "metadata": {
  "kernelspec": {
   "display_name": "obspy",
   "language": "python",
   "name": "python3"
  },
  "language_info": {
   "codemirror_mode": {
    "name": "ipython",
    "version": 3
   },
   "file_extension": ".py",
   "mimetype": "text/x-python",
   "name": "python",
   "nbconvert_exporter": "python",
   "pygments_lexer": "ipython3",
   "version": "3.10.13"
  }
 },
 "nbformat": 4,
 "nbformat_minor": 2
}
