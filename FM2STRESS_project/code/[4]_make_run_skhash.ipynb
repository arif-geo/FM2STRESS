{
 "cells": [
  {
   "cell_type": "markdown",
   "metadata": {},
   "source": [
    "# Focal mechanism calculation using `SKHASH` file format\n",
    "\n",
    "**Make P-polarity input file i.e., `pol_consensus.csv` file.**\n",
    "\n",
    "columns:\\\n",
    "        `event_id,event_id2,station,location,channel,p_polarity,origin_latitude,origin_longitude,origin_depth_km`\n",
    "\n"
   ]
  },
  {
   "cell_type": "markdown",
   "metadata": {},
   "source": [
    "**pyrocko marker to skshash pol_concensus for individual event marker file.\n",
    "This is my old  filing system. I make 1 marker file for one event. Now, i have a master marker file for all events.**"
   ]
  },
  {
   "cell_type": "code",
   "execution_count": 34,
   "metadata": {},
   "outputs": [],
   "source": [
    "import os\n",
    "import pandas as pd\n",
    "import numpy as np\n",
    "import matplotlib.pyplot as plt\n",
    "import pyperclip\n"
   ]
  },
  {
   "cell_type": "code",
   "execution_count": 35,
   "metadata": {},
   "outputs": [],
   "source": [
    "# Set up directory\n",
    "project_dir = f\"{os.getcwd()}/..\"\n",
    "skhash_dir = f\"{project_dir}/code/SKHASH2/SKHASH\"  ## SKHASH2 is the most recent version\n",
    "skhash_example_dir = f\"{skhash_dir}/examples\"\n",
    "skhash_mtj_dir = f'{skhash_dir}/examples/maacama_SKHASH_MTJ'\n",
    "\n",
    "############## CHECK THE FILE NAMES CAREFULLY TO MAKE SURE THEY ARE THE MOST RECENT ONES ############################\n",
    "\n",
    "all_picks_file = f'{project_dir}/results/phasenet_diting_others/phasenet_files/' + 'ALL_PICKS_POL.csv'\n",
    "\n",
    "eq_cat_file = f'{project_dir}/data/eq_data/1_eq_catalogs/' + 'usgs_3D_gridsort_eq_above_slab2_area.csv'\n",
    "\n",
    "inv_file = f'{project_dir}/data/eq_data/3_station_catalogs/' + '00_station_inventory_master.txt'\n",
    "\n",
    "output_path = f'{skhash_mtj_dir}/IN'\n"
   ]
  },
  {
   "cell_type": "markdown",
   "metadata": {},
   "source": [
    "# Run the functions"
   ]
  },
  {
   "cell_type": "markdown",
   "metadata": {},
   "source": [
    "# New style test"
   ]
  },
  {
   "cell_type": "code",
   "execution_count": 45,
   "metadata": {},
   "outputs": [
    {
     "name": "stderr",
     "output_type": "stream",
     "text": [
      "/Users/mdarifulislam/Library/CloudStorage/OneDrive-IndianaUniversity/Research/Github/FM2STRESS/FM2STRESS_project/code/classes_functions/my_class_funcs.py:1079: FutureWarning: The behavior of DataFrame concatenation with empty or all-NA entries is deprecated. In a future version, this will no longer exclude empty or all-NA columns when determining the result dtypes. To retain the old behavior, exclude the relevant entries before the concat operation.\n",
      "  skhash_pol_df = pd.concat([skhash_pol_df, event_df], ignore_index=True)\n"
     ]
    }
   ],
   "source": [
    "from classes_functions.my_class_funcs import SkhashRunner\n",
    "skrun = SkhashRunner()\n",
    "\n",
    "skhash_pol_df_pyroko = skrun.PhaseNet2SKHASH_polarity(all_picks_file, eq_cat_file, manual_AI_commons_only=True, pyrocko_only=True, output_path=None)\n",
    "\n",
    "# drop rows with empty p_polarity\n",
    "skhash_pol_df_pyroko = skhash_pol_df_pyroko.dropna(subset=['p_polarity'])\n",
    "\n",
    "skhash_pol_df_pyroko.to_csv(f\"{skhash_mtj_dir}/IN/pol_concensus_pyroko.csv\", index=False)\n"
   ]
  },
  {
   "cell_type": "code",
   "execution_count": 46,
   "metadata": {},
   "outputs": [
    {
     "name": "stdout",
     "output_type": "stream",
     "text": [
      "Using the provided merged inventory file: /Users/mdarifulislam/Library/CloudStorage/OneDrive-IndianaUniversity/Research/Github/FM2STRESS/FM2STRESS_project/code/../data/eq_data/3_station_catalogs/00_station_inventory_master.txt\n"
     ]
    }
   ],
   "source": [
    "\n",
    "# make station file\n",
    "skhash_station_df = skrun.make_SKHASH_station_file(given_inventory=inv_file, #skhash_polarity_file=f\"{skhash_mtj_dir}/IN/pol_concensus_pyroko.csv\",\n",
    "    keep_Z_only = True, drop_duplicates = True, output_path = None)\n",
    "\n",
    "skhash_station_df.to_csv(f\"{skhash_mtj_dir}/IN/station_all.csv\", index=False)"
   ]
  },
  {
   "cell_type": "code",
   "execution_count": 47,
   "metadata": {},
   "outputs": [],
   "source": [
    "\n",
    "skhash_reverse_df = skrun.make_skhash_reverse_file(f\"{skhash_mtj_dir}/IN/pol_concensus_pyroko.csv\", output_path=None) # make sure the polarity file has been created\n",
    "skhash_reverse_df.to_csv(f\"{skhash_mtj_dir}/IN/reverse_pyroko.csv\", index=False)"
   ]
  },
  {
   "cell_type": "code",
   "execution_count": 52,
   "metadata": {},
   "outputs": [],
   "source": [
    "from classes_functions.my_class_funcs import SkhashRunner\n",
    "%reload_ext autoreload\n",
    "%autoreload 2\n",
    "\n",
    "skrun = SkhashRunner()\n",
    "# control_file = skrun.edit_skhash_control_file(\n",
    "#     conpfile = f'{skhash_mtj_dir}/IN/pol_consensus.csv',\n",
    "#     stfile = f'{skhash_mtj_dir}/IN/station.csv',\n",
    "#     outfile1 = f'{skhash_mtj_dir}/OUT/out.csv',\n",
    "#     outfile2 = f'{skhash_mtj_dir}/OUT/out2.csv',\n",
    "#     outfile_pol_agree = f'{skhash_mtj_dir}/OUT/out_polagree.csv',\n",
    "#     outfile_pol_info = f'{skhash_mtj_dir}/OUT/out_polinfo.csv',\n",
    "#     vmodel_paths = f'{skhash_example_dir}/velocity_models_MTJ/vz.MTJ.txt',\n",
    "# )\n",
    "\n",
    "control_file = skrun.edit_skhash_control_file(\n",
    "    conpfile = 'examples/maacama_SKHASH_MTJ/IN/pol_concensus_pyroko.csv',\n",
    "    stfile = 'examples/maacama_SKHASH_MTJ/IN/station_all.csv',\n",
    "    outfile1 = 'examples/maacama_SKHASH_MTJ/OUT/out_pyrocko.csv',\n",
    "    outfile2 = 'examples/maacama_SKHASH_MTJ/OUT/out2_pyrocko.csv',\n",
    "    outfile_pol_agree = 'examples/maacama_SKHASH_MTJ/OUT/out_polagree_pyrocko.csv',\n",
    "    outfile_pol_info = 'examples/maacama_SKHASH_MTJ/OUT/out_polinfo_pyrocko.csv',\n",
    "    outfolder_plots = 'examples/maacama_SKHASH_MTJ/OUT/plots',\n",
    "    plot_station_names = True,\n",
    "    plot_acceptable_solutions = True,\n",
    ")"
   ]
  },
  {
   "cell_type": "code",
   "execution_count": 53,
   "metadata": {},
   "outputs": [],
   "source": [
    "# write the control file into a text file   \n",
    "with open(f'{skhash_mtj_dir}/control_test.txt', 'w') as f:\n",
    "    f.write(control_file)"
   ]
  },
  {
   "cell_type": "markdown",
   "metadata": {},
   "source": [
    "# Run SkHash in bash\n",
    "cd into SkHash folder and run the following code in terminal"
   ]
  },
  {
   "cell_type": "code",
   "execution_count": 54,
   "metadata": {},
   "outputs": [
    {
     "name": "stdout",
     "output_type": "stream",
     "text": [
      "Making the script executable...\n"
     ]
    },
    {
     "data": {
      "text/plain": [
       "0"
      ]
     },
     "execution_count": 54,
     "metadata": {},
     "output_type": "execute_result"
    }
   ],
   "source": [
    "bash_script = f\"\"\"#!/bin/bash\n",
    "cd {skhash_dir}\n",
    "\n",
    "# Activate conda pythoon environment named 'phasenet' [********change miniconda3 to anaconda3 if using Anaconda]\n",
    "source ~/miniconda3/etc/profile.d/conda.sh # or source ~/anaconda3/etc/profile.d/conda.sh in case of Anaconda\n",
    "# conda init\n",
    "conda activate obspy\n",
    "\n",
    "python3 SKHASH.py examples/maacama_SKHASH_MTJ/control_test.txt\n",
    "\"\"\"\n",
    "\n",
    "with open(f'{skhash_dir}/run_skhash.sh', 'w') as f:\n",
    "    f.write(bash_script)\n",
    "\n",
    "# Make the script executable\n",
    "print(\"Making the script executable...\")\n",
    "os.system(f\"chmod +x {skhash_dir}/run_skhash.sh\")"
   ]
  },
  {
   "cell_type": "code",
   "execution_count": 55,
   "metadata": {},
   "outputs": [
    {
     "name": "stdout",
     "output_type": "stream",
     "text": [
      "Running SKHASH...\n",
      "========================\n",
      "SKHASH v0.1 (2024-02-16)\n",
      "========================\n",
      "Control file: examples/maacama_SKHASH_MTJ/control_test.txt\n",
      "WARNING: Earthquake depth (-0.316) in polarity record is less than the minimum lookup table depth (0 km). Setting hypocentral depth to 0 km.\n",
      "Discarded 65 of the 1785 polarity measurements with source-receiver distances >200 km\n",
      "Creating lookup table (0/0): examples/velocity_models_MTJ/vz.MTJ.txt\n",
      "\tCreated table.\n",
      "Computing mechanisms in parallel...\n",
      "*WARNING: Perturbed locations for event_id 'nc40234034' are deeper than lookup table depth range (39). Setting these perturbed depths to 39 km.\n",
      "7 / 46\t(nc51208596)\n",
      "\tMaximum azimuthal gap (235.29) > max_agap (190). Skipping.\n",
      "*sdr_from_vector warning, horz fault, strike undefined\n",
      "*sdr_from_vector warning, horz fault, strike undefined\n",
      "*sdr_from_vector warning, horz fault, strike undefined\n",
      "0 / 46\t(nc40216664)\n",
      "\tS: 131.5581   D: 52.8695   R: -113.4052   U: 20.4576   Q: B\n",
      "\tRuntime: 3.44 sec\n",
      "6 / 46\t(nc51207829)\n",
      "\tS: 128.2628   D: 79.7394   R: -170.1754   U: 14.7956   Q: C\n",
      "\tRuntime: 3.37 sec\n",
      "*WARNING: Perturbed locations for event_id 'nc71180461' are shallower than lookup table depth range (0). Setting these perturbed depths to 0 km.\n",
      "9 / 46\t(nc71180461)\n",
      "\tMaximum azimuthal gap (260.392) > max_agap (190). Skipping.\n",
      "11 / 46\t(nc71339731)\n",
      "\tMaximum azimuthal gap (218.359) > max_agap (190). Skipping.\n",
      "8 / 46\t(nc71100926)\n",
      "\tS: 227.9651   D: 47.4121   R: -85.0513   U: 40.624   Q: D\n",
      "\tRuntime: 4.22 sec\n",
      "1 / 46\t(nc40221138)\n",
      "\tS: 309.4594   D: 85.7442   R: -167.2698   U: 27.0504   Q: B\n",
      "\tRuntime: 4.55 sec\n",
      "3 / 46\t(nc51197189)\n",
      "\tS: 92.6394   D: 66.7175   R: -159.1456   U: 36.7518   Q: D\n",
      "\tRuntime: 4.57 sec\n",
      "14 / 46\t(nc71544046)\n",
      "\tMaximum azimuthal gap (244.477) > max_agap (190). Skipping.\n",
      "15 / 46\t(nc71616450)\n",
      "\tMaximum azimuthal gap (222.528) > max_agap (190). Skipping.\n",
      "*WARNING: Perturbed locations for event_id 'nc71634355' are deeper than lookup table depth range (39). Setting these perturbed depths to 39 km.\n",
      "*WARNING: Perturbed locations for event_id 'nc71759805' are shallower than lookup table depth range (0). Setting these perturbed depths to 0 km.\n",
      "17 / 46\t(nc71759805)\n",
      "\tMaximum azimuthal gap (244.293) > max_agap (190). Skipping.\n",
      "2 / 46\t(nc40234034)\n",
      "\tS: 69.5671   D: 78.8814   R: -174.4694   U: 39.8618   Q: C\n",
      "\tRuntime: 5.09 sec\n",
      "4 / 46\t(nc51207076)\n",
      "\tS: 116.0668   D: 2.6883   R: -139.4809   U: 29.9686   Q: B\n",
      "\tRuntime: 5.12 sec\n",
      "5 / 46\t(nc51207214)\n",
      "\tS: 36.8112   D: 46.5383   R: -120.9697   U: 36.1377   Q: D\n",
      "\tRuntime: 5.19 sec\n",
      "*WARNING: Perturbed locations for event_id 'nc71940250' are shallower than lookup table depth range (0). Setting these perturbed depths to 0 km.\n",
      "*sdr_from_vector warning, horz fault, strike undefined\n",
      "12 / 46\t(nc71349716)\n",
      "\tS: 204.3011   D: 40.844   R: -85.3242   U: 22.0221   Q: D\n",
      "\tRuntime: 2.67 sec\n",
      "*WARNING: Perturbed locations for event_id 'nc71993336' are shallower than lookup table depth range (0). Setting these perturbed depths to 0 km.\n",
      "10 / 46\t(nc71255501)\n",
      "\tS: 305.6735   D: 85.1149   R: -158.0734   U: 49.3404   Q: D\n",
      "\tRuntime: 2.89 sec\n",
      "23 / 46\t(nc72006040)\n",
      "\tMaximum takeoff angle gap (68.101) > max_pgap (60.0). Skipping.\n",
      "24 / 46\t(nc72050586)\n",
      "\tMaximum takeoff angle gap (70.969) > max_pgap (60.0). Skipping.\n",
      "25 / 46\t(nc72086051)\n",
      "\tMaximum azimuthal gap (277.928) > max_agap (190). Skipping.\n",
      "19 / 46\t(nc71888456)\n",
      "\tS: 135.0957   D: 14.2402   R: -66.864   U: 15.7445   Q: B\n",
      "\tRuntime: 1.82 sec\n",
      "16 / 46\t(nc71634355)\n",
      "\tS: 346.6319   D: 74.4422   R: -152.9406   U: 23.5815   Q: B\n",
      "\tRuntime: 2.87 sec\n",
      "18 / 46\t(nc71872550)\n",
      "\tS: 28.0102   D: 52.3183   R: 69.4461   U: 45.6707   Q: D\n",
      "\tRuntime: 3.22 sec\n",
      "20 / 46\t(nc71919066)\n",
      "\tS: 320.3876   D: 81.2979   R: -110.4235   U: 22.4298   Q: C\n",
      "\tRuntime: 2.77 sec\n",
      "13 / 46\t(nc71383806)\n",
      "\tS: 16.2681   D: 32.6639   R: 157.7263   U: 49.4414   Q: D\n",
      "\tRuntime: 3.60 sec\n",
      "26 / 46\t(nc72189495)\n",
      "\tS: 208.4636   D: 28.8722   R: -101.0592   U: 28.4664   Q: C\n",
      "\tRuntime: 2.04 sec\n",
      "21 / 46\t(nc71940250)\n",
      "\tS: 349.9031   D: 77.1741   R: -103.1491   U: 28.008   Q: C\n",
      "\tRuntime: 3.55 sec\n",
      "22 / 46\t(nc71993336)\n",
      "\tS: 268.6642   D: 50.2727   R: 94.0188   U: 45.8752   Q: D\n",
      "\tRuntime: 3.08 sec\n",
      "*WARNING: Perturbed locations for event_id 'nc72935821' are shallower than lookup table depth range (0). Setting these perturbed depths to 0 km.\n",
      "*sdr_from_vector warning, horz fault, strike undefined\n",
      "27 / 46\t(nc72239881)\n",
      "\tS: 144.6437   D: 25.1345   R: -179.8778   U: 45.1566   Q: D\n",
      "\tRuntime: 3.18 sec\n",
      "28 / 46\t(nc72258726)\n",
      "\tS: 166.3774   D: 73.5559   R: -95.1302   U: 29.7808   Q: D\n",
      "\tRuntime: 2.68 sec\n",
      "33 / 46\t(nc72799581)\n",
      "\tS: 294.686   D: 82.2414   R: -124.0397   U: 22.8416   Q: C\n",
      "\tRuntime: 1.90 sec\n",
      "34 / 46\t(nc72935821)\n",
      "\tS: 329.0778   D: 77.5825   R: 174.2653   U: 21.4613   Q: C\n",
      "\tRuntime: 1.95 sec\n",
      "31 / 46\t(nc72404695)\n",
      "\tS: 84.3645   D: 29.78   R: -106.7927   U: 28.0373   Q: C\n",
      "\tRuntime: 3.21 sec\n",
      "39 / 46\t(nc73139111)\n",
      "\tMaximum azimuthal gap (231.439) > max_agap (190). Skipping.\n",
      "29 / 46\t(nc72322146)\n",
      "\tS: 127.0476   D: 59.5056   R: -173.3985   U: 24.8104   Q: D\n",
      "\tRuntime: 3.79 sec\n",
      "37 / 46\t(nc73024816)\n",
      "\tS: 345.8771   D: 60.1256   R: -134.4837   U: 18.5262   Q: B\n",
      "\tRuntime: 1.04 sec\n",
      "32 / 46\t(nc72731930)\n",
      "\tS: 354.4218   D: 63.3846   R: -95.7503   U: 23.7578   Q: C\n",
      "\tRuntime: 3.26 sec\n",
      "30 / 46\t(nc72378641)\n",
      "\tS: 1.0294   D: 5.3941   R: 94.031   U: 28.0828   Q: C\n",
      "\tRuntime: 3.85 sec\n",
      "38 / 46\t(nc73118836)\n",
      "\tS: 340.7762   D: 35.8741   R: -110.6347   U: 17.4276   Q: C\n",
      "\tRuntime: 2.00 sec\n",
      "35 / 46\t(nc72942761)\n",
      "\tS: 344.3747   D: 56.4614   R: -139.0141   U: 35.1757   Q: C\n",
      "\tRuntime: 3.23 sec\n",
      "40 / 46\t(nc73139526)\n",
      "\tS: 340.4192   D: 72.7962   R: 155.7809   U: 18.6334   Q: C\n",
      "\tRuntime: 2.44 sec\n",
      "36 / 46\t(nc72946846)\n",
      "\tS: 197.4571   D: 83.9423   R: 179.0446   U: 24.5202   Q: C\n",
      "\tRuntime: 3.58 sec\n",
      "44 / 46\t(nc73718040)\n",
      "\tS: 280.7979   D: 84.9062   R: 154.6575   U: 33.4871   Q: C\n",
      "\tRuntime: 2.38 sec\n",
      "42 / 46\t(nc73311641)\n",
      "\tS: 173.6249   D: 40.5921   R: -110.1119   U: 19.1043   Q: B\n",
      "\tRuntime: 3.22 sec\n",
      "41 / 46\t(nc73201181)\n",
      "\tS: 99.439   D: 70.3182   R: 150.7965   U: 21.7484   Q: C\n",
      "\tRuntime: 3.36 sec\n",
      "46 / 46\t(nc73821296)\n",
      "\tS: 350.6242   D: 31.611   R: -99.0773   U: 19.8472   Q: C\n",
      "\tRuntime: 1.86 sec\n",
      "45 / 46\t(nc73783911)\n",
      "\tS: 117.7133   D: 67.906   R: -134.9854   U: 25.8896   Q: B\n",
      "\tRuntime: 2.12 sec\n",
      "43 / 46\t(nc73629686)\n",
      "\tS: 212.327   D: 88.4299   R: 155.0017   U: 30.9742   Q: C\n",
      "\tRuntime: 3.53 sec\n",
      "Mech computation runtime: 16.15 sec\n",
      "Total runtime: 16.68 sec\n"
     ]
    }
   ],
   "source": [
    "# Run the script\n",
    "# run = input(\"Do you want to run PhaseNet now? (y/n): \")\n",
    "run = \"y\"\n",
    "if run.lower() == \"y\":\n",
    "    print(\"Running SKHASH...\")\n",
    "    os.system(f\"{skhash_dir}/run_skhash.sh\")\n",
    "else:\n",
    "    print(\"SKHASH will not be run. Exiting...\")"
   ]
  },
  {
   "cell_type": "code",
   "execution_count": null,
   "metadata": {},
   "outputs": [],
   "source": []
  }
 ],
 "metadata": {
  "kernelspec": {
   "display_name": "obspy",
   "language": "python",
   "name": "python3"
  },
  "language_info": {
   "codemirror_mode": {
    "name": "ipython",
    "version": 3
   },
   "file_extension": ".py",
   "mimetype": "text/x-python",
   "name": "python",
   "nbconvert_exporter": "python",
   "pygments_lexer": "ipython3",
   "version": "3.10.13"
  }
 },
 "nbformat": 4,
 "nbformat_minor": 2
}
