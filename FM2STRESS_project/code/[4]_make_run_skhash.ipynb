{
 "cells": [
  {
   "cell_type": "markdown",
   "metadata": {},
   "source": [
    "# Focal mechanism calculation using `SKHASH` file format\n",
    "\n",
    "**Make P-polarity input file i.e., `pol_consensus.csv` file.**\n",
    "\n",
    "columns:\\\n",
    "        `event_id,event_id2,station,location,channel,p_polarity,origin_latitude,origin_longitude,origin_depth_km`\n",
    "\n"
   ]
  },
  {
   "cell_type": "markdown",
   "metadata": {},
   "source": [
    "**pyrocko marker to skshash pol_concensus for individual event marker file.\n",
    "This is my old  filing system. I make 1 marker file for one event. Now, i have a master marker file for all events.**"
   ]
  },
  {
   "cell_type": "code",
   "execution_count": 389,
   "metadata": {},
   "outputs": [],
   "source": [
    "import sys\n",
    "sys.path.append('../my_funcs/')\n",
    "# %load_ext autoreload\n",
    "%autoreload 2\n",
    "%reload_ext autoreload\n",
    "\n",
    "import os\n",
    "import pandas as pd\n",
    "import numpy as np\n",
    "import matplotlib.pyplot as plt\n",
    "import pyperclip\n",
    "from my_funcs.file_format_conversions import make_skhash_station_file, make_skhash_reverse_file, pyrocko_marker2skhash_pol\n"
   ]
  },
  {
   "cell_type": "markdown",
   "metadata": {},
   "source": [
    "# Run the functions"
   ]
  },
  {
   "cell_type": "code",
   "execution_count": 390,
   "metadata": {},
   "outputs": [
    {
     "name": "stdout",
     "output_type": "stream",
     "text": [
      "making pol consensus file: ./SKHASH/SKHASH/examples/maacama_SKHASH_MTJ/IN/pol_consensus.csv\n",
      "making station file: ./SKHASH/SKHASH/examples/maacama_SKHASH_MTJ/IN/station.csv\n",
      "Using the provided merged inventory file: ../data/eq_data/all_data/00_station_inventory_master.txt\n",
      "making reverse file: ./SKHASH/SKHASH/examples/maacama_SKHASH_MTJ/IN/reverse.csv\n"
     ]
    }
   ],
   "source": [
    "data_path = \"../data/eq_data/all_data\"\n",
    "skhash_in = f\"./SKHASH/SKHASH/examples/maacama_SKHASH_MTJ/IN\"\n",
    "markerfile_path = f\"{data_path}/00_master_marker_ASSOCIATED_v2.txt\"\n",
    "\n",
    "print(f'making pol consensus file: {skhash_in}/pol_consensus.csv')\n",
    "# use the function to create the pol_consensus.csv file\n",
    "pol_df = pyrocko_marker2skhash_pol(markerfile_path, output_path=data_path)\n",
    "pol_df.to_csv(f'{skhash_in}/pol_consensus.csv', index=False)\n",
    "\n",
    "print(f'making station file: {skhash_in}/station.csv')\n",
    "# make station file\n",
    "inv_df = make_skhash_station_file(given_inventory = f'{data_path}/00_station_inventory_master.txt')\n",
    "inv_df.to_csv(f'{skhash_in}/station.csv', index=False)\n",
    "\n",
    "print(f'making reverse file: {skhash_in}/reverse.csv')\n",
    "# make reverse file\n",
    "reverse_df = make_skhash_reverse_file(f\"{skhash_in}/pol_consensus.csv\")\n",
    "reverse_df.to_csv(f'{skhash_in}/reverse.csv', index=False)\n",
    "\n",
    "print(\"go to SKHASH.py directory and run the following command\")\n",
    "pyperclip.copy(\"python3 SKHASH.py examples/maacama_SKHASH_MTJ/control_file.txt\")"
   ]
  },
  {
   "cell_type": "code",
   "execution_count": 394,
   "metadata": {},
   "outputs": [],
   "source": []
  },
  {
   "cell_type": "code",
   "execution_count": 392,
   "metadata": {},
   "outputs": [],
   "source": []
  }
 ],
 "metadata": {
  "kernelspec": {
   "display_name": "obspy",
   "language": "python",
   "name": "python3"
  },
  "language_info": {
   "codemirror_mode": {
    "name": "ipython",
    "version": 3
   },
   "file_extension": ".py",
   "mimetype": "text/x-python",
   "name": "python",
   "nbconvert_exporter": "python",
   "pygments_lexer": "ipython3",
   "version": "3.10.13"
  }
 },
 "nbformat": 4,
 "nbformat_minor": 2
}
