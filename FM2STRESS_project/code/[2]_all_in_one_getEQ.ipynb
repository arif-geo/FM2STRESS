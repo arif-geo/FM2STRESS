{
 "cells": [
  {
   "cell_type": "markdown",
   "metadata": {},
   "source": [
    "# Earthquake Data Download, Phase Picking, Polarity and Focal Mechanism Determination\n",
    "This notebook will select earthquake events from the USGS catalogs subset made in part-1 for above slab events.\n",
    "Then download the `mseed` file and associated `inventory (txt)` files for each events for events in the study area.\n",
    "Since this is a fairly small study area start time of 30s before the event time will be enough for the most distant ones as well.\n",
    "Next, I will use `PhaseNet` and `Pyrocko` to pick P and S phases and their polarity.\n",
    "Lastly, I will use `HASH(fortran)` and `SKHASH (python)` to determine the focal mechanisms.\n",
    "\n",
    "----------------------------------------------------------------------------------------"
   ]
  },
  {
   "cell_type": "markdown",
   "metadata": {},
   "source": [
    "### Import all necessary libraries here, this will make things easier later"
   ]
  },
  {
   "cell_type": "code",
   "execution_count": 2,
   "metadata": {},
   "outputs": [],
   "source": [
    "import os\n",
    "import sys\n",
    "import time\n",
    "from tqdm.auto import tqdm\n",
    "import glob\n",
    "# from joblib import Parallel, delayed\n",
    "import warnings\n",
    "warnings.filterwarnings(\"ignore\")\n",
    "\n",
    "import pandas as pd\n",
    "import numpy as np\n",
    "from obspy.clients.fdsn import Client\n",
    "from obspy import UTCDateTime, read_inventory, Inventory, read, Stream\n",
    "import matplotlib.pyplot as plt\n",
    "import tensorflow as tf\n",
    "from keras import backend as K\n",
    "\n",
    "sys.path.append('./my_funcs')\n",
    "# %load_ext autoreload\n",
    "# %autoreload 2\n",
    "%reload_ext autoreload\n",
    "\n",
    "# my custom functions\n",
    "from get_waveforms_parallel_v3 import get_waveforms_parallel, get_station_inventory\n"
   ]
  },
  {
   "cell_type": "markdown",
   "metadata": {},
   "source": [
    "# Setup all directories"
   ]
  },
  {
   "cell_type": "code",
   "execution_count": 3,
   "metadata": {},
   "outputs": [],
   "source": [
    "# set up the project directory\n",
    "project_dir = f\"{os.getcwd()}/../\"\n",
    "data_dir = os.path.join(project_dir, \"data/eq_data\") # include data folders for eq catalogs, waveforms, and station catalogs\n",
    "catalog_dir = os.path.join(data_dir, \"1_eq_catalogs\") # all eq catalogs: orig and edited\n",
    "waveform_dir = os.path.join(data_dir, \"2_waveforms\") # mseed files\n",
    "station_dir = os.path.join(data_dir, \"3_station_catalogs\") # station xml files\n",
    "\n",
    "pn_dt_dir = os.path.join(project_dir, \"results/phasenet_diting_others\") # dir for phasenet,diting,pyrocko\n",
    "pn_dir = os.path.join(pn_dt_dir, \"phasenet_files\") # phasenet picks [+added diting & manual picks]\n",
    "os.makedirs(pn_dir, exist_ok=True)\n",
    "\n",
    "cwd = os.getcwd()\n",
    "phasenet_path = f\"{cwd}/../../../../Software_docs/PhaseNet\" # path to source code of PhaseNet"
   ]
  },
  {
   "cell_type": "markdown",
   "metadata": {},
   "source": [
    "# (1) Select desired events from the catalog. To get a good spatial distribution I divided the study area into grids of 0.2 degrees.\n",
    "Now, I select the highest magnitude events from each grid.\n",
    "Also check if the depth is `artificial` i.e, a given value of 5, 10, 15 or 20 km when depth constrain is bad."
   ]
  },
  {
   "cell_type": "code",
   "execution_count": 1,
   "metadata": {},
   "outputs": [
    {
     "ename": "NameError",
     "evalue": "name 'os' is not defined",
     "output_type": "error",
     "traceback": [
      "\u001b[0;31m---------------------------------------------------------------------------\u001b[0m",
      "\u001b[0;31mNameError\u001b[0m                                 Traceback (most recent call last)",
      "Cell \u001b[0;32mIn[1], line 1\u001b[0m\n\u001b[0;32m----> 1\u001b[0m eq_cat_file \u001b[38;5;241m=\u001b[39m \u001b[43mos\u001b[49m\u001b[38;5;241m.\u001b[39mpath\u001b[38;5;241m.\u001b[39mjoin(catalog_dir, \u001b[38;5;124m\"\u001b[39m\u001b[38;5;124musgs_3D_gridsort_eq_above_slab2_area.csv\u001b[39m\u001b[38;5;124m\"\u001b[39m)\n\u001b[1;32m      3\u001b[0m eqdf \u001b[38;5;241m=\u001b[39m pd\u001b[38;5;241m.\u001b[39mread_csv(eq_cat_file, parse_dates\u001b[38;5;241m=\u001b[39m[\u001b[38;5;124m\"\u001b[39m\u001b[38;5;124mtime\u001b[39m\u001b[38;5;124m\"\u001b[39m])\n\u001b[1;32m      4\u001b[0m eqdf \u001b[38;5;241m=\u001b[39m eqdf[eqdf\u001b[38;5;241m.\u001b[39mmag \u001b[38;5;241m>\u001b[39m\u001b[38;5;241m=\u001b[39m \u001b[38;5;241m2.5\u001b[39m]\u001b[38;5;241m.\u001b[39mreset_index(drop\u001b[38;5;241m=\u001b[39m\u001b[38;5;28;01mTrue\u001b[39;00m)\n",
      "\u001b[0;31mNameError\u001b[0m: name 'os' is not defined"
     ]
    }
   ],
   "source": [
    "eq_cat_file = os.path.join(catalog_dir, \"usgs_3D_gridsort_eq_above_slab2_area.csv\")\n",
    "\n",
    "eqdf = pd.read_csv(eq_cat_file, parse_dates=[\"time\"])\n",
    "eqdf = eqdf[eqdf.mag >= 2.5].reset_index(drop=True)"
   ]
  },
  {
   "cell_type": "code",
   "execution_count": 7,
   "metadata": {},
   "outputs": [
    {
     "name": "stdout",
     "output_type": "stream",
     "text": [
      "Number grids with eq : 105\n",
      "Number of selected events : 105\n"
     ]
    }
   ],
   "source": [
    "# Extract unique grid codes and sort them\n",
    "unique_grid_codes = np.sort(eqdf['grid_code_3D'].unique())\n",
    "print(f\"Number grids with eq : {len(unique_grid_codes)}\")\n",
    "\n",
    "# create an empty dataframe to store the selected events\n",
    "selected_eq = pd.DataFrame(columns=eqdf.columns)\n",
    "\n",
    "# Loop through each grid code and select the event with the highest magnitude\n",
    "for grid_code in unique_grid_codes:\n",
    "    temp_df = eqdf[eqdf['grid_code_3D'] == grid_code].sort_values(by='mag', ascending=False)\n",
    " \n",
    "    # Check if there are events in the grid\n",
    "    if len(temp_df) > 0:\n",
    "        # print(temp_df[['id', 'mag', 'time']])\n",
    "        # check the depth values if 0 or 5 or 10 km fixed depth, select the next event\n",
    "        for i, row in temp_df.iterrows():\n",
    "            if row['depth'] == 0 or row['depth'] == 5 or row['depth'] == 10:\n",
    "                print(f\"Event {row['id']} has depth {row['depth']} km, selecting next event\")\n",
    "                continue\n",
    "            else:\n",
    "                selected_eq = pd.concat([selected_eq, row.to_frame().T], ignore_index=True)\n",
    "                break\n",
    "\n",
    "# save the selected events\n",
    "selected_eq.to_csv(f\"{catalog_dir}/selected_eq{len(selected_eq)}.csv\", index=False)\n",
    "print(f\"Number of selected events : {len(selected_eq)}\")\n"
   ]
  },
  {
   "cell_type": "markdown",
   "metadata": {},
   "source": [
    " # (2) Download the inventory data for the following criterias\n",
    "\n",
    "Get the station inventory within the study area which recorded this event.\\\n",
    "Use this station inventory data to download earthquake data (`.mseed`) and station data (`.txt` or `.xml` format).\\\n",
    "3-channel data for earthquakes are along x, y and z axis. Usually named as HHE, HHN and HHZ or HH1, HH2, HHZ.\\\n",
    "I want to select the following channels in order. If the 1st one is available, get that one only and stop. If not search for the 2nd one and so on.\n",
    "1. HH*\n",
    "2. BH*\n",
    "3. HN*\n",
    "4. EH* \\\n",
    "Lastly, of stations within the study area (+0.5 degrees) for each of the selected events.\n"
   ]
  },
  {
   "cell_type": "markdown",
   "metadata": {},
   "source": [
    "## 2.1 Make a master inventory file\n",
    "As we select events from 2008 to end of 2023, a master station inventory with all stations within this timeframe should work for all operations."
   ]
  },
  {
   "cell_type": "raw",
   "metadata": {},
   "source": [
    "# define the datacenters and channel list\n",
    "client_list = ['IRIS', 'NCEDC', 'SCEDC']\n",
    "channel_list = 'HH*,BH*,HN*,EH*' # select broadband and high sample rate channels\n",
    "\n",
    "# time window for the waveform\n",
    "starttime = UTCDateTime(\"2008-01-01\")\n",
    "endtime = UTCDateTime(\"2024-01-01\")\n",
    "\n",
    "# create an empty inventory object\n",
    "merged_inventory = Inventory()\n",
    "\n",
    "# Loop through each client (IRIS, NCEDC, SCEDC data centers)\n",
    "for client_name in client_list:\n",
    "    client = Client(client_name, debug=False, timeout=60)\n",
    "    try:\n",
    "        inv = client.get_stations(\n",
    "            network=\"*\",\n",
    "            station=\"*\",\n",
    "            location=\"*\",\n",
    "            channel=channel_list,\n",
    "            starttime=starttime,\n",
    "            endtime=endtime,\n",
    "            level=\"channel\", # since we spacify the channel, we must use level=channel\n",
    "            minlatitude=39,\n",
    "            maxlatitude=42,\n",
    "            minlongitude=-126,\n",
    "            maxlongitude=-122.5, # extend the area by 0.5 deg\n",
    "        )\n",
    "        merged_inventory.extend(inv.networks)\n",
    "        \n",
    "    except Exception as e:\n",
    "        print(f\"Error fetching data from {client_name}: {e}\")    \n",
    "\n",
    "# write the whole inventory to a file\n",
    "merged_inventory.write(f\"{station_dir}/00_station_inventory_master.txt\", format=\"STATIONTXT\")\n",
    "merged_inventory.write(f\"{station_dir}/00_station_inventory_master.xml\", format=\"STATIONXML\")    \n"
   ]
  },
  {
   "cell_type": "code",
   "execution_count": 8,
   "metadata": {},
   "outputs": [
    {
     "name": "stdout",
     "output_type": "stream",
     "text": [
      "5145\n",
      "1089\n"
     ]
    }
   ],
   "source": [
    "sta_df = pd.read_csv(f\"{station_dir}/00_station_inventory_master.txt\", delimiter='|')\n",
    "print(sta_df.shape[0])\n",
    "sta_df.drop_duplicates(subset=['#Network', 'Station', 'Channel'], inplace=True)\n",
    "print(sta_df.shape[0])\n",
    "\n",
    "sta_df.to_csv(f\"{station_dir}/00_station_inventory_master_cleaned.txt\", index=False, sep='|')"
   ]
  },
  {
   "cell_type": "markdown",
   "metadata": {},
   "source": [
    "# 3. Download `.mseed` [and (optional) station_data]\n",
    "\n",
    "## Read the inventory files already downloaded\n",
    "\n",
    "Here I will read the inventory file which contain details about all the stations that recorded a particular earthquake event. \\\n",
    "From that inventory file I will get all the necessary informations I need to download the seismic data (a numpy timeseries in `.mseed` format). \\\n",
    "I will also download the metadata for that record in `.xml & .txt` formats.\\\n",
    "\n",
    "This process will use `multiprocessing.Pool.imap_unordered` module for paraller processing of the download.\\\n",
    "For the code see `./code/my_funcs/get_waveforms_parallel_v3.py` where I defined the download fuction combined with parallel processing. \\\n",
    "This significantly improves the runtime.\n"
   ]
  },
  {
   "cell_type": "markdown",
   "metadata": {},
   "source": [
    "client_list = ['IRIS', 'NCEDC', 'SCEDC']\n",
    "channels_string = 'HH*,BH*,HN*,EH*'                   # by default given to get_waveforms_parallel function\n",
    "priority_channels = ['HH*', 'BH*', 'HN*', 'EH*']"
   ]
  },
  {
   "cell_type": "code",
   "execution_count": 9,
   "metadata": {},
   "outputs": [
    {
     "data": {
      "application/vnd.jupyter.widget-view+json": {
       "model_id": "40f94c9d428e4163af536bb1ff8ddeaf",
       "version_major": 2,
       "version_minor": 0
      },
      "text/plain": [
       "Downloading events:   0%|          | 0/105 [00:00<?, ?it/s]"
      ]
     },
     "metadata": {},
     "output_type": "display_data"
    }
   ],
   "source": [
    "# get a list of mseed files without folder names\n",
    "mseed_files = [os.path.basename(f) for f in glob.glob(f\"{waveform_dir}/*.mseed\")]\n",
    "\n",
    "progress_bar = tqdm(total=len(selected_eq), desc=\"Downloading events\", dynamic_ncols=True)\n",
    "for i, row in selected_eq.iterrows():\n",
    "    event_id = row.id\n",
    "\n",
    "    # check if the event data is already downloaded\n",
    "    if f\"{event_id}.mseed\" in mseed_files:\n",
    "        progress_bar.update(1)\n",
    "        continue\n",
    "\n",
    "    event_time = UTCDateTime(pd.to_datetime(row.time))\n",
    "    starttime = event_time - 30\n",
    "    endtime = event_time + 120\n",
    "\n",
    "    xml_file = f\"{waveform_dir}/xml/{event_id}_event_inv.xml\"\n",
    "    if os.path.exists(xml_file):\n",
    "        inv = read_inventory(xml_file)\n",
    "\n",
    "    else:\n",
    "        inv = get_station_inventory(starttime, endtime) # client_list, priority_channels are default\n",
    "        inv.write(xml_file, format=\"STATIONXML\")\n",
    "        inv = read_inventory(xml_file)\n",
    "    \n",
    "    # get the waveforms for the event and save them\n",
    "    st, inv = get_waveforms_parallel(starttime, endtime, inventory=inv) # client_list, priority_channels are default\n",
    "\n",
    "    if len(st) > 0:\n",
    "        st.write(f\"{waveform_dir}/{event_id}.mseed\", format=\"MSEED\")\n",
    "        # inv.write(f\"{waveform_dir}/{event_id}_event_inv.txt\", format=\"STATIONTXT\")\n",
    "        # remove the inventory file\n",
    "        os.remove(xml_file)\n",
    "        print(f\"Download complete for {event_id}:len(st)\")\n",
    "        progress_bar.update(1)\n",
    "\n",
    "    else:\n",
    "        progress_bar.update(1)\n",
    "        continue"
   ]
  },
  {
   "cell_type": "markdown",
   "metadata": {},
   "source": [
    "## testing class function to do the same thing"
   ]
  },
  {
   "cell_type": "code",
   "execution_count": 13,
   "metadata": {},
   "outputs": [
    {
     "name": "stdout",
     "output_type": "stream",
     "text": [
      "Event time : 2010-01-01T00:00:00.000000Z\n",
      "Inventory created at 2024-03-23T19:21:34.650120Z\n",
      "\tCreated by: ObsPy 1.4.0\n",
      "\t\t    https://www.obspy.org\n",
      "\tSending institution: ObsPy 1.4.0\n",
      "\tContains:\n",
      "\t\tNetworks (0):\n",
      "\n",
      "\t\tStations (0):\n",
      "\n",
      "\t\tChannels (0):\n",
      "\n",
      "0\n"
     ]
    }
   ],
   "source": [
    "from obspy import UTCDateTime\n",
    "from my_funcs.my_class_funcs import WaveformParallelDownloader\n",
    "from my_funcs.get_waveforms_parallel_v3 import get_waveforms_parallel, get_station_inventory\n",
    "\n",
    "\n",
    "evtime = UTCDateTime(\"2010-01-01\")\n",
    "print(f\"Event time : {evtime}\")\n",
    "starttime, endtime = evtime - 30, evtime + 120\n",
    "\n",
    "wpd = WaveformParallelDownloader(starttime, endtime)\n",
    "st, inv = wpd.get_waveforms_parallel()\n",
    "\n",
    "# inv = get_station_inventory(starttime, endtime)\n",
    "# st, inv = get_waveforms_parallel(starttime, endtime, inventory=inv)\n",
    "\n",
    "print(inv)\n",
    "print(len(st))"
   ]
  },
  {
   "cell_type": "markdown",
   "metadata": {},
   "source": [
    "## (4.1) Use `Phasenet` to pick P and S phases\n",
    "An example of phasenet terminal code is: \\\n",
    "`python phasenet/predict.py --model=model/190703-214543 --data_list=test_data/mseed.csv --data_dir=test_data/mseed --format=mseed --result_dir./phasenet_results --result_fname=phasenet_phasepick_datetime.csv`\n",
    "\n",
    "___[[for more details]](https://github.com/AI4EPS/PhaseNet/blob/master/docs/example_batch_prediction.ipynb)"
   ]
  },
  {
   "cell_type": "markdown",
   "metadata": {},
   "source": [
    "### 4.1.1 Make a folder to store the results\n",
    "- Also make a list of .mseed files (only filename for phasenet) and put it in a .csv file"
   ]
  },
  {
   "cell_type": "code",
   "execution_count": 4,
   "metadata": {},
   "outputs": [],
   "source": [
    "# Make a list of .mseed files into a csv file to input into PhaseNet command line\n",
    "mseed_list = [os.path.basename(fname) for fname in glob.glob(f\"{waveform_dir}/*.mseed\")]\n",
    "\n",
    "# Write the list to a csv file\n",
    "pd.DataFrame(mseed_list, columns=[\"fname\"]).to_csv(f\"{pn_dir}/mseed_list.csv\", index=False, header=True)"
   ]
  },
  {
   "cell_type": "markdown",
   "metadata": {},
   "source": [
    "### 4.1.2 Make a bash script for running Phasenet"
   ]
  },
  {
   "cell_type": "code",
   "execution_count": 43,
   "metadata": {},
   "outputs": [
    {
     "name": "stdout",
     "output_type": "stream",
     "text": [
      "Making the script executable...\n"
     ]
    },
    {
     "data": {
      "text/plain": [
       "0"
      ]
     },
     "execution_count": 43,
     "metadata": {},
     "output_type": "execute_result"
    }
   ],
   "source": [
    "# Make a script to run PhaseNet \n",
    "# *** VVI: every directory is with respect to the location of this notebook ***\n",
    "\n",
    "script_content = f\"\"\"#!/bin/bash\n",
    "\n",
    "# Change directory into PhaseNet\n",
    "cd {phasenet_path}\n",
    "\n",
    "# Activate conda pythoon environment named 'phasenet' [********change miniconda3 to anaconda3 if using Anaconda]\n",
    "source ~/miniconda3/etc/profile.d/conda.sh # or source ~/anaconda3/etc/profile.d/conda.sh in case of Anaconda\n",
    "# conda init\n",
    "conda activate phasenet\n",
    "\n",
    "# Run Phasenet prediction\n",
    "python phasenet/predict.py \\\\\n",
    "  --model=model/190703-214543 \\\\\n",
    "  --data_list={pn_dir}/mseed_list.csv \\\\\n",
    "  --data_dir={waveform_dir} \\\\\n",
    "  --format=mseed \\\\\n",
    "  --amplitude \\\\\n",
    "  --batch_size=1 \\\\\n",
    "  --sampling_rate=100 \\\\\n",
    "  --result_dir={pn_dir} \\\\\n",
    "  --result_fname=phasenet_phasepick_3d_grid \\\\\n",
    "  --min_p_prob=0.75 \\\\\n",
    "  --min_s_prob=0.85 \\\\\n",
    "  # --add_polarity \\\\\n",
    "  # --plot_figure\n",
    "\n",
    "# Deactivate virtual environment (optional)\n",
    "# conda deactivate\n",
    "\n",
    "\"\"\"\n",
    "\n",
    "# Write the script content to a file\n",
    "with open(f\"{pn_dir}/run_phasenet.sh\", \"w\") as f:\n",
    "    f.write(script_content)\n",
    "\n",
    "# Make the script executable\n",
    "print(\"Making the script executable...\")\n",
    "os.system(f\"chmod +x {pn_dir}/run_phasenet.sh\")"
   ]
  },
  {
   "cell_type": "markdown",
   "metadata": {},
   "source": [
    "### 4.1.3 Run Phasenet script:\n",
    "If it's already run, it will ask if you want to run again."
   ]
  },
  {
   "cell_type": "code",
   "execution_count": 48,
   "metadata": {},
   "outputs": [
    {
     "name": "stdout",
     "output_type": "stream",
     "text": [
      "PhaseNet already run. Skipping...\n"
     ]
    }
   ],
   "source": [
    "# Run the script\n",
    "run = False\n",
    "if run:\n",
    "    print(\"Running PhaseNet...\")\n",
    "    os.system(f\"{pn_dir}/run_phasenet.sh\")\n",
    "else:\n",
    "    print(\"PhaseNet already run. Skipping...\")"
   ]
  },
  {
   "cell_type": "markdown",
   "metadata": {},
   "source": [
    "**important**\n",
    "on mac m1, there is no CUDA support (NVIDIA), so in EQNet-master/predict.py (most probably) set `torch.device('cpu') and search args.device and in each function add `args.device = 'cpy'` to use cpu focefully instead of GPU"
   ]
  },
  {
   "cell_type": "markdown",
   "metadata": {},
   "source": [
    "# 5. Determine polarity using DitingMotion"
   ]
  },
  {
   "cell_type": "code",
   "execution_count": 5,
   "metadata": {},
   "outputs": [],
   "source": [
    "diting_model_dir = \"./DiTing_model/models/DiTingMotionJul.hdf5\"\n",
    "phasnet_picks = f\"{pn_dir}/phasenet_phasepick_3d_grid.csv\"\n",
    "phasenet_df = pd.read_csv(phasnet_picks, parse_dates=[\"begin_time\", \"phase_time\"])\n",
    "phasenet_df = phasenet_df[(phasenet_df.phase_type == \"P\") & (phasenet_df.phase_score >= 0.8)]\n",
    "\n",
    "# os.environ['TF_CPP_MIN_LOG_LEVEL'] = '3'  # Suppress TensorFlow logging\n",
    "diting_model = tf.keras.models.load_model(diting_model_dir, compile=False)"
   ]
  },
  {
   "cell_type": "code",
   "execution_count": 39,
   "metadata": {},
   "outputs": [],
   "source": [
    "# from my_funcs.my_class_funcs import DitingMotionPicker\n",
    "# %reload_ext autoreload\n",
    "# %autoreload 2\n",
    "\n",
    "# dmp = DitingMotionPicker()\n",
    "# pol_pick_df1 = dmp.assign_polarity(mseed_list=mseed_list[0:5],\n",
    "#                                 phaesnet_picks_df=phasenet_df,\n",
    "#                                 motion_model=diting_model,\n",
    "#                                 waveform_dir=waveform_dir,\n",
    "#                                 )\n",
    "# # \n",
    "# # pol_pick_df1.to_csv(f\"{pn_dir}/diting_phasenet_3d_grid.csv\", index=False)\n",
    "# pol_pick_df1.head()\n"
   ]
  },
  {
   "cell_type": "markdown",
   "metadata": {},
   "source": [
    "## Use parallelized function in my custom clases"
   ]
  },
  {
   "cell_type": "code",
   "execution_count": 57,
   "metadata": {},
   "outputs": [
    {
     "data": {
      "application/vnd.jupyter.widget-view+json": {
       "model_id": "8fe784942ca945448777a15afca6eea7",
       "version_major": 2,
       "version_minor": 0
      },
      "text/plain": [
       "Polarity Detection:   0%|          | 0/112 [00:00<?, ?it/s]"
      ]
     },
     "metadata": {},
     "output_type": "display_data"
    },
    {
     "data": {
      "text/html": [
       "<div>\n",
       "<style scoped>\n",
       "    .dataframe tbody tr th:only-of-type {\n",
       "        vertical-align: middle;\n",
       "    }\n",
       "\n",
       "    .dataframe tbody tr th {\n",
       "        vertical-align: top;\n",
       "    }\n",
       "\n",
       "    .dataframe thead th {\n",
       "        text-align: right;\n",
       "    }\n",
       "</style>\n",
       "<table border=\"1\" class=\"dataframe\">\n",
       "  <thead>\n",
       "    <tr style=\"text-align: right;\">\n",
       "      <th></th>\n",
       "      <th>station_id</th>\n",
       "      <th>begin_time</th>\n",
       "      <th>phase_index</th>\n",
       "      <th>phase_time</th>\n",
       "      <th>phase_score</th>\n",
       "      <th>phase_type</th>\n",
       "      <th>file_name</th>\n",
       "      <th>phase_amplitude</th>\n",
       "      <th>phase_amp</th>\n",
       "      <th>diting_polarity</th>\n",
       "      <th>diting_sharpness</th>\n",
       "    </tr>\n",
       "  </thead>\n",
       "  <tbody>\n",
       "    <tr>\n",
       "      <th>0</th>\n",
       "      <td>NC.GHM..EH</td>\n",
       "      <td>2013-05-17 23:14:24.840</td>\n",
       "      <td>4142</td>\n",
       "      <td>2013-05-17 23:15:06.260</td>\n",
       "      <td>0.954</td>\n",
       "      <td>P</td>\n",
       "      <td>nc71993336.mseed</td>\n",
       "      <td>90.177597</td>\n",
       "      <td>90.177597</td>\n",
       "      <td>U</td>\n",
       "      <td>I</td>\n",
       "    </tr>\n",
       "    <tr>\n",
       "      <th>1</th>\n",
       "      <td>NC.GRO..EH</td>\n",
       "      <td>2013-05-17 23:14:24.840</td>\n",
       "      <td>3897</td>\n",
       "      <td>2013-05-17 23:15:03.810</td>\n",
       "      <td>0.978</td>\n",
       "      <td>P</td>\n",
       "      <td>nc71993336.mseed</td>\n",
       "      <td>102.460068</td>\n",
       "      <td>102.460068</td>\n",
       "      <td>U</td>\n",
       "      <td>I</td>\n",
       "    </tr>\n",
       "    <tr>\n",
       "      <th>2</th>\n",
       "      <td>NC.GVV..EH</td>\n",
       "      <td>2013-05-17 23:14:24.840</td>\n",
       "      <td>3968</td>\n",
       "      <td>2013-05-17 23:15:04.520</td>\n",
       "      <td>0.980</td>\n",
       "      <td>P</td>\n",
       "      <td>nc71993336.mseed</td>\n",
       "      <td>171.614334</td>\n",
       "      <td>171.614334</td>\n",
       "      <td>U</td>\n",
       "      <td>I</td>\n",
       "    </tr>\n",
       "    <tr>\n",
       "      <th>3</th>\n",
       "      <td>NC.KBN..EH</td>\n",
       "      <td>2013-05-17 23:14:24.840</td>\n",
       "      <td>3307</td>\n",
       "      <td>2013-05-17 23:14:57.910</td>\n",
       "      <td>0.949</td>\n",
       "      <td>P</td>\n",
       "      <td>nc71993336.mseed</td>\n",
       "      <td>757.944458</td>\n",
       "      <td>757.944458</td>\n",
       "      <td>D</td>\n",
       "      <td>I</td>\n",
       "    </tr>\n",
       "    <tr>\n",
       "      <th>4</th>\n",
       "      <td>NC.KFP..EH</td>\n",
       "      <td>2013-05-17 23:14:24.840</td>\n",
       "      <td>3922</td>\n",
       "      <td>2013-05-17 23:15:04.060</td>\n",
       "      <td>0.893</td>\n",
       "      <td>P</td>\n",
       "      <td>nc71993336.mseed</td>\n",
       "      <td>90.963402</td>\n",
       "      <td>90.963402</td>\n",
       "      <td>U</td>\n",
       "      <td>I</td>\n",
       "    </tr>\n",
       "  </tbody>\n",
       "</table>\n",
       "</div>"
      ],
      "text/plain": [
       "   station_id              begin_time  phase_index              phase_time  \\\n",
       "0  NC.GHM..EH 2013-05-17 23:14:24.840         4142 2013-05-17 23:15:06.260   \n",
       "1  NC.GRO..EH 2013-05-17 23:14:24.840         3897 2013-05-17 23:15:03.810   \n",
       "2  NC.GVV..EH 2013-05-17 23:14:24.840         3968 2013-05-17 23:15:04.520   \n",
       "3  NC.KBN..EH 2013-05-17 23:14:24.840         3307 2013-05-17 23:14:57.910   \n",
       "4  NC.KFP..EH 2013-05-17 23:14:24.840         3922 2013-05-17 23:15:04.060   \n",
       "\n",
       "   phase_score phase_type         file_name  phase_amplitude   phase_amp  \\\n",
       "0        0.954          P  nc71993336.mseed        90.177597   90.177597   \n",
       "1        0.978          P  nc71993336.mseed       102.460068  102.460068   \n",
       "2        0.980          P  nc71993336.mseed       171.614334  171.614334   \n",
       "3        0.949          P  nc71993336.mseed       757.944458  757.944458   \n",
       "4        0.893          P  nc71993336.mseed        90.963402   90.963402   \n",
       "\n",
       "  diting_polarity diting_sharpness  \n",
       "0               U                I  \n",
       "1               U                I  \n",
       "2               U                I  \n",
       "3               D                I  \n",
       "4               U                I  "
      ]
     },
     "execution_count": 57,
     "metadata": {},
     "output_type": "execute_result"
    }
   ],
   "source": [
    "from my_funcs.my_class_funcs import DitingMotionPicker\n",
    "%reload_ext autoreload\n",
    "run = True\n",
    "# if run:\n",
    "dmp = DitingMotionPicker(mseed_list, waveform_dir, phasenet_df, diting_model)\n",
    "pol_pick_df = dmp.assign_polarity_parallel()\n",
    "\n",
    "pol_pick_df.head()\n"
   ]
  },
  {
   "cell_type": "code",
   "execution_count": 61,
   "metadata": {},
   "outputs": [],
   "source": [
    "pol_pick_df.to_csv(f\"{pn_dir}/diting_phasenet_3d_grid.csv\", index=False)"
   ]
  },
  {
   "cell_type": "markdown",
   "metadata": {},
   "source": [
    "# 6. Convert PyRocko picks into phasenet format csv file"
   ]
  },
  {
   "cell_type": "code",
   "execution_count": 69,
   "metadata": {},
   "outputs": [
    {
     "data": {
      "text/html": [
       "<div>\n",
       "<style scoped>\n",
       "    .dataframe tbody tr th:only-of-type {\n",
       "        vertical-align: middle;\n",
       "    }\n",
       "\n",
       "    .dataframe tbody tr th {\n",
       "        vertical-align: top;\n",
       "    }\n",
       "\n",
       "    .dataframe thead th {\n",
       "        text-align: right;\n",
       "    }\n",
       "</style>\n",
       "<table border=\"1\" class=\"dataframe\">\n",
       "  <thead>\n",
       "    <tr style=\"text-align: right;\">\n",
       "      <th></th>\n",
       "      <th>station_id</th>\n",
       "      <th>begin_time</th>\n",
       "      <th>phase_index</th>\n",
       "      <th>phase_time</th>\n",
       "      <th>phase_score</th>\n",
       "      <th>phase_type</th>\n",
       "      <th>file_name</th>\n",
       "      <th>phase_amplitude</th>\n",
       "      <th>phase_amp</th>\n",
       "      <th>diting_polarity</th>\n",
       "      <th>diting_sharpness</th>\n",
       "      <th>pyrocko_phase_time</th>\n",
       "      <th>pyrocko_polarity</th>\n",
       "    </tr>\n",
       "  </thead>\n",
       "  <tbody>\n",
       "    <tr>\n",
       "      <th>0</th>\n",
       "      <td>NC.GHM..EH</td>\n",
       "      <td>2013-05-17 23:14:24.840</td>\n",
       "      <td>4142</td>\n",
       "      <td>2013-05-17 23:15:06.260</td>\n",
       "      <td>0.954</td>\n",
       "      <td>P</td>\n",
       "      <td>nc71993336.mseed</td>\n",
       "      <td>90.177597</td>\n",
       "      <td>90.177597</td>\n",
       "      <td>U</td>\n",
       "      <td>I</td>\n",
       "      <td>2013-05-17T23:15:06.23361</td>\n",
       "      <td>1</td>\n",
       "    </tr>\n",
       "    <tr>\n",
       "      <th>1</th>\n",
       "      <td>NC.GRO..EH</td>\n",
       "      <td>2013-05-17 23:14:24.840</td>\n",
       "      <td>3897</td>\n",
       "      <td>2013-05-17 23:15:03.810</td>\n",
       "      <td>0.978</td>\n",
       "      <td>P</td>\n",
       "      <td>nc71993336.mseed</td>\n",
       "      <td>102.460068</td>\n",
       "      <td>102.460068</td>\n",
       "      <td>U</td>\n",
       "      <td>I</td>\n",
       "      <td>2013-05-17T23:15:03.81000</td>\n",
       "      <td>1</td>\n",
       "    </tr>\n",
       "    <tr>\n",
       "      <th>2</th>\n",
       "      <td>NC.GVV..EH</td>\n",
       "      <td>2013-05-17 23:14:24.840</td>\n",
       "      <td>3968</td>\n",
       "      <td>2013-05-17 23:15:04.520</td>\n",
       "      <td>0.980</td>\n",
       "      <td>P</td>\n",
       "      <td>nc71993336.mseed</td>\n",
       "      <td>171.614334</td>\n",
       "      <td>171.614334</td>\n",
       "      <td>U</td>\n",
       "      <td>I</td>\n",
       "      <td>2013-05-17T23:15:04.52000</td>\n",
       "      <td>1</td>\n",
       "    </tr>\n",
       "    <tr>\n",
       "      <th>3</th>\n",
       "      <td>NC.KBN..EH</td>\n",
       "      <td>2013-05-17 23:14:24.840</td>\n",
       "      <td>3307</td>\n",
       "      <td>2013-05-17 23:14:57.910</td>\n",
       "      <td>0.949</td>\n",
       "      <td>P</td>\n",
       "      <td>nc71993336.mseed</td>\n",
       "      <td>757.944458</td>\n",
       "      <td>757.944458</td>\n",
       "      <td>D</td>\n",
       "      <td>I</td>\n",
       "      <td>2013-05-17T23:14:57.91000</td>\n",
       "      <td>-1</td>\n",
       "    </tr>\n",
       "    <tr>\n",
       "      <th>4</th>\n",
       "      <td>NC.KFP..EH</td>\n",
       "      <td>2013-05-17 23:14:24.840</td>\n",
       "      <td>3922</td>\n",
       "      <td>2013-05-17 23:15:04.060</td>\n",
       "      <td>0.893</td>\n",
       "      <td>P</td>\n",
       "      <td>nc71993336.mseed</td>\n",
       "      <td>90.963402</td>\n",
       "      <td>90.963402</td>\n",
       "      <td>U</td>\n",
       "      <td>I</td>\n",
       "      <td>2013-05-17T23:15:04.11446</td>\n",
       "      <td>1</td>\n",
       "    </tr>\n",
       "  </tbody>\n",
       "</table>\n",
       "</div>"
      ],
      "text/plain": [
       "   station_id              begin_time  phase_index              phase_time  \\\n",
       "0  NC.GHM..EH 2013-05-17 23:14:24.840         4142 2013-05-17 23:15:06.260   \n",
       "1  NC.GRO..EH 2013-05-17 23:14:24.840         3897 2013-05-17 23:15:03.810   \n",
       "2  NC.GVV..EH 2013-05-17 23:14:24.840         3968 2013-05-17 23:15:04.520   \n",
       "3  NC.KBN..EH 2013-05-17 23:14:24.840         3307 2013-05-17 23:14:57.910   \n",
       "4  NC.KFP..EH 2013-05-17 23:14:24.840         3922 2013-05-17 23:15:04.060   \n",
       "\n",
       "   phase_score phase_type         file_name  phase_amplitude   phase_amp  \\\n",
       "0        0.954          P  nc71993336.mseed        90.177597   90.177597   \n",
       "1        0.978          P  nc71993336.mseed       102.460068  102.460068   \n",
       "2        0.980          P  nc71993336.mseed       171.614334  171.614334   \n",
       "3        0.949          P  nc71993336.mseed       757.944458  757.944458   \n",
       "4        0.893          P  nc71993336.mseed        90.963402   90.963402   \n",
       "\n",
       "  diting_polarity diting_sharpness         pyrocko_phase_time pyrocko_polarity  \n",
       "0               U                I  2013-05-17T23:15:06.23361                1  \n",
       "1               U                I  2013-05-17T23:15:03.81000                1  \n",
       "2               U                I  2013-05-17T23:15:04.52000                1  \n",
       "3               D                I  2013-05-17T23:14:57.91000               -1  \n",
       "4               U                I  2013-05-17T23:15:04.11446                1  "
      ]
     },
     "execution_count": 69,
     "metadata": {},
     "output_type": "execute_result"
    }
   ],
   "source": [
    "pyrocko_markers = f\"{pn_dt_dir}/00_picked_polarity_assigned_phasenet_pyrocko_final.txt\"\n",
    "phasenet_diting_picks = f\"{pn_dir}/diting_phasenet_3d_grid.csv\"\n",
    "\n",
    "from my_funcs.my_class_funcs import MyFileConverter as mfc\n",
    "%reload_ext autoreload\n",
    "\n",
    "all_picks_df = mfc().convert_pyrocko_picks_to_phasenet(pyrocko_markers, phasenet_diting_picks)\n",
    "all_picks_df.head()"
   ]
  },
  {
   "cell_type": "code",
   "execution_count": 70,
   "metadata": {},
   "outputs": [],
   "source": [
    "# write all_picks_df to a csv file\n",
    "all_picks_df.to_csv(f\"{pn_dir}/diting_phasenet_pyrocko_3d_grid.csv\", index=False)"
   ]
  },
  {
   "cell_type": "code",
   "execution_count": 81,
   "metadata": {},
   "outputs": [
    {
     "data": {
      "image/png": "[encoded data removed]",
      "text/plain": [
       "<Figure size 1200x600 with 2 Axes>"
      ]
     },
     "metadata": {},
     "output_type": "display_data"
    }
   ],
   "source": [
    "fig, ax = plt.subplots(1, 2, figsize=(12, 6))\n",
    "all_picks_df.diting_polarity.value_counts().plot(kind='bar', ax=ax[0], grid=True)\n",
    "all_picks_df.pyrocko_polarity.value_counts().plot(kind='bar', ax=ax[1], grid=True)\n",
    "\n",
    "\n",
    "plt.show()"
   ]
  },
  {
   "cell_type": "markdown",
   "metadata": {},
   "source": [
    "# xx. Plot the PyRocko manual picks and phasenet+DiTingMotion picks on the seismic data\n"
   ]
  },
  {
   "cell_type": "code",
   "execution_count": null,
   "metadata": {},
   "outputs": [],
   "source": [
    "def get_sta_dist(folder_station, eid, elat, elon):\n",
    "    \"\"\"\n",
    "    For plotting\n",
    "    folder_station: folder containing station information (such as ../data/eq_data/event_id/)\n",
    "    input: event id, event latitude, event longitude\n",
    "    output: dataframe containing\n",
    "        - station names\n",
    "        - distances\n",
    "        - station latitude\n",
    "        - station longitude\n",
    "    \"\"\"\n",
    "    from geopy.distance import geodesic\n",
    "\n",
    "    sta_file = f\"{folder_station}/{eid}_event_inv.txt\"\n",
    "\n",
    "    # read station inventory file\n",
    "    sta_df = pd.read_csv(sta_file, \n",
    "                        sep='|', \n",
    "                        header=0,\n",
    "                        usecols=[1, 4, 5]) # Station|Latitude|Longitude    \n",
    "    # keep only unique station names\n",
    "    sta_df = sta_df.drop_duplicates(subset=['Station'])\n",
    "\n",
    "    stanames, slat, slon = sta_df['Station'].values, sta_df['Latitude'].values, sta_df['Longitude'].values\n",
    "    distances = []\n",
    "    for i in range(0, len(sta_df)):\n",
    "        distances.append(geodesic((elat, elon), (slat[i], slon[i])).km)\n",
    "    distances = np.array(distances)\n",
    "\n",
    "    # make a dataframe to return \n",
    "    df = pd.DataFrame()\n",
    "    df['stanames'] = stanames\n",
    "    df['distances'] = distances\n",
    "    df['slat'] = slat\n",
    "    df['slon'] = slon\n",
    "    df = df.sort_values(by='distances', ascending=True).reset_index(drop=True)\n",
    "    return df\n",
    "\n",
    "\n",
    "\n",
    "def get_phasenet_phasepicks(phasenet_file, eid):\n",
    "    \"\"\"\n",
    "    Get the phase picks from the PhaseNet output file for a given event id\n",
    "    \"\"\"\n",
    "\n",
    "    df = pd.read_csv(phasenet_file, header=0, parse_dates=['phase_time'])\n",
    "    subdf = df.loc[df.file_name.str.split('.').str[0]==eid,:]\n",
    "    subdf.loc[:, 'station_id'] = subdf.station_id.str.split('.').str[1]\n",
    "\n",
    "    subdf2 = subdf.loc[:, ['station_id', 'phase_time', 'phase_type']]\n",
    "    subdf2.phase_time = pd.to_datetime(subdf2.phase_time)\n",
    "\n",
    "    return subdf2"
   ]
  },
  {
   "cell_type": "code",
   "execution_count": null,
   "metadata": {},
   "outputs": [
    {
     "ename": "NameError",
     "evalue": "name 'data_path' is not defined",
     "output_type": "error",
     "traceback": [
      "\u001b[0;31m---------------------------------------------------------------------------\u001b[0m",
      "\u001b[0;31mNameError\u001b[0m                                 Traceback (most recent call last)",
      "Cell \u001b[0;32mIn[13], line 1\u001b[0m\n\u001b[0;32m----> 1\u001b[0m mseed \u001b[38;5;241m=\u001b[39m \u001b[38;5;124mf\u001b[39m\u001b[38;5;124m'\u001b[39m\u001b[38;5;132;01m{\u001b[39;00m\u001b[43mdata_path\u001b[49m\u001b[38;5;132;01m}\u001b[39;00m\u001b[38;5;124m/\u001b[39m\u001b[38;5;132;01m{\u001b[39;00mmseed_list[\u001b[38;5;241m0\u001b[39m]\u001b[38;5;132;01m}\u001b[39;00m\u001b[38;5;124m'\u001b[39m\n\u001b[1;32m      3\u001b[0m row \u001b[38;5;241m=\u001b[39m selected_eq\u001b[38;5;241m.\u001b[39mloc[selected_eq\u001b[38;5;241m.\u001b[39mid \u001b[38;5;241m==\u001b[39m mseed_list[\u001b[38;5;241m0\u001b[39m]\u001b[38;5;241m.\u001b[39msplit(\u001b[38;5;124m'\u001b[39m\u001b[38;5;124m.\u001b[39m\u001b[38;5;124m'\u001b[39m)[\u001b[38;5;241m0\u001b[39m]]\n\u001b[1;32m      4\u001b[0m eid, elat, elon, emag, edepth \u001b[38;5;241m=\u001b[39m row\u001b[38;5;241m.\u001b[39mid\u001b[38;5;241m.\u001b[39mvalues[\u001b[38;5;241m0\u001b[39m], row\u001b[38;5;241m.\u001b[39mlatitude\u001b[38;5;241m.\u001b[39mvalues[\u001b[38;5;241m0\u001b[39m], row\u001b[38;5;241m.\u001b[39mlongitude\u001b[38;5;241m.\u001b[39mvalues[\u001b[38;5;241m0\u001b[39m], row\u001b[38;5;241m.\u001b[39mmag\u001b[38;5;241m.\u001b[39mvalues[\u001b[38;5;241m0\u001b[39m], row\u001b[38;5;241m.\u001b[39mdepth\u001b[38;5;241m.\u001b[39mvalues[\u001b[38;5;241m0\u001b[39m]\n",
      "\u001b[0;31mNameError\u001b[0m: name 'data_path' is not defined"
     ]
    }
   ],
   "source": [
    "mseed = f'{data_path}/{mseed_list[0]}'\n",
    "\n",
    "row = selected_eq.loc[selected_eq.id == mseed_list[0].split('.')[0]]\n",
    "eid, elat, elon, emag, edepth = row.id.values[0], row.latitude.values[0], row.longitude.values[0], row.mag.values[0], row.depth.values[0]\n",
    "t_origin = UTCDateTime(pd.to_datetime(row.time.values[0]))\n",
    "\n",
    "sta_df = get_sta_dist(f\"{data_path}\", eid, elat, elon)\n",
    "stnames, stdist, slat, slon = sta_df['stanames'].values, sta_df['distances'].values, sta_df['slat'].values, sta_df['slon'].values\n",
    "phase_picks = get_phasenet_phasepicks(f\"{data_path}/phasenet_files/phasenet_phasepick_datetime.csv\", eid)\n",
    "\n",
    "# Read the mseed file\n",
    "st = read(mseed)\n",
    "\n",
    "# Plot the waveform\n",
    "fig = plt.figure(figsize=(6, 6))\n",
    "ax = fig.add_subplot(1,1,1)\n",
    "\n",
    "for i in range(len(stnames)):\n",
    "    sta = str(stnames[i])\n",
    "    temp_st = st.select(station=sta)\n",
    "    temp_st2 = temp_st.select(component='Z')\n",
    "\n",
    "    tr = temp_st[0]\n",
    "    tr.detrend('demean')\n",
    "    tr.filter('bandpass', freqmin=2, freqmax=20)\n",
    "    tr.taper(0.05)\n",
    "    tr.data = tr.data/np.max(tr.data)\n",
    "\n",
    "    # time array\n",
    "    t = (tr.stats.starttime-t_origin) + np.arange(0, tr.stats.npts)/tr.stats.sampling_rate\n",
    "\n",
    "    # plot waveform, lw is linewidth\n",
    "    ax.plot(t, tr.data+i, lw=0.5)\n",
    "\n",
    "    # plot P and S arrivals\n",
    "    filtered_data = phase_picks.loc[phase_picks.station_id == sta]  # Filter for the station ID once\n",
    "\n",
    "    for index, row in filtered_data.iterrows():\n",
    "        phase_type = row['phase_type']\n",
    "        phase_time_temp = UTCDateTime(row['phase_time'])\n",
    "        dt = phase_time_temp - t_origin\n",
    "\n",
    "        if phase_type == 'P':\n",
    "            ax.plot([dt, dt], [i - 0.8, i + 0.8], 'k', label='P-arrival' if i == 0 else None)\n",
    "        elif phase_type == 'S':\n",
    "            ax.plot([dt, dt], [i - 0.8, i + 0.8], 'b', label='S-arrival' if i == 0 else None)\n",
    "\n",
    "    # plot station name\n",
    "    ax.text(0, i, sta)  \n",
    "\n",
    "ax.legend(loc='upper right')\n",
    "ax.set_xlim([-5, 60])\n",
    "ax.set_xlabel('Time [s]')\n",
    "ax.set_ylabel('Distance from epicenter [km]')\n",
    "plt.tight_layout()\n",
    "plt.show()\n"
   ]
  }
 ],
 "metadata": {
  "kernelspec": {
   "display_name": "obspy",
   "language": "python",
   "name": "python3"
  },
  "language_info": {
   "codemirror_mode": {
    "name": "ipython",
    "version": 3
   },
   "file_extension": ".py",
   "mimetype": "text/x-python",
   "name": "python",
   "nbconvert_exporter": "python",
   "pygments_lexer": "ipython3",
   "version": "3.10.12"
  }
 },
 "nbformat": 4,
 "nbformat_minor": 2
}
