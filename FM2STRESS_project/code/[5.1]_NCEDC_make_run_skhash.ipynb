{
 "cells": [
  {
   "cell_type": "markdown",
   "metadata": {},
   "source": [
    "# Focal mechanism calculation using `SKHASH` file format\n",
    "\n",
    "**Make P-polarity input file i.e., `pol_consensus.csv` file.**\n",
    "\n",
    "columns:\\\n",
    "        `event_id,event_id2,station,location,channel,p_polarity,origin_latitude,origin_longitude,origin_depth_km`\n",
    "\n"
   ]
  },
  {
   "cell_type": "markdown",
   "metadata": {},
   "source": [
    "**pyrocko marker to skshash pol_concensus for individual event marker file.\n",
    "This is my old  filing system. I make 1 marker file for one event. Now, i have a master marker file for all events.**"
   ]
  },
  {
   "cell_type": "code",
   "execution_count": 1,
   "metadata": {},
   "outputs": [],
   "source": [
    "import os\n",
    "import pandas as pd\n",
    "import numpy as np\n",
    "import matplotlib.pyplot as plt\n",
    "import pyperclip\n",
    "\n",
    "from classes_functions.my_class_funcs import SkhashRunner\n",
    "%reload_ext autoreload\n",
    "%autoreload 2\n",
    "\n",
    "# Set up directory\n",
    "project_dir = f\"{os.getcwd()}/..\"\n",
    "skhash_dir = f\"{project_dir}/code/SKHASH2/SKHASH\" # /examples\" #/maacama_SKHASH_MTJ\"\n",
    "sk_in_out_dir = f'{project_dir}/results/foc_mech/NCEDC_comp/HASH_IN_OUT'\n",
    "\n",
    "eq_cat_file = f'../data/NCEDC_picks/NCEDC_eq_cat_above_slab.csv'\n",
    "inv_file = f'../data/eq_data/3_station_catalogs/00_station_inventory_master.txt'"
   ]
  },
  {
   "cell_type": "markdown",
   "metadata": {},
   "source": [
    "# Create SkHASH format files"
   ]
  },
  {
   "cell_type": "code",
   "execution_count": 2,
   "metadata": {},
   "outputs": [],
   "source": [
    "out_id = \"NCEDC_PN_noQC_2008\"    \n",
    "output_path  = f'{sk_in_out_dir}/IN'\n",
    "os.makedirs(output_path, exist_ok=True)\n",
    "# **************** Very important to change this for each run ****************\n",
    "\n",
    "%reload_ext autoreload\n",
    "%autoreload 2\n",
    "from classes_functions.my_class_funcs import SkhashRunner\n",
    "\n",
    "skrun = SkhashRunner()"
   ]
  },
  {
   "cell_type": "markdown",
   "metadata": {},
   "source": [
    "### Polarity file [SKHASH format]\n"
   ]
  },
  {
   "cell_type": "code",
   "execution_count": 3,
   "metadata": {},
   "outputs": [],
   "source": [
    "nc_picks_file = f'{project_dir}/data/NCEDC_picks/2008_NCEDC_picks_above_slab_PN.csv'\n",
    "skhash_pol_df = skrun.NCEDC2SKHASH_polarity(\n",
    "    eq_cat_file,\n",
    "    nc_picks_file,\n",
    ")"
   ]
  },
  {
   "cell_type": "markdown",
   "metadata": {},
   "source": [
    "### Station file [SKHASH format]\n"
   ]
  },
  {
   "cell_type": "code",
   "execution_count": 4,
   "metadata": {},
   "outputs": [
    {
     "name": "stdout",
     "output_type": "stream",
     "text": [
      "Using the provided merged inventory file: ./temp_inv.txt\n"
     ]
    },
    {
     "data": {
      "text/html": [
       "<div>\n",
       "<style scoped>\n",
       "    .dataframe tbody tr th:only-of-type {\n",
       "        vertical-align: middle;\n",
       "    }\n",
       "\n",
       "    .dataframe tbody tr th {\n",
       "        vertical-align: top;\n",
       "    }\n",
       "\n",
       "    .dataframe thead th {\n",
       "        text-align: right;\n",
       "    }\n",
       "</style>\n",
       "<table border=\"1\" class=\"dataframe\">\n",
       "  <thead>\n",
       "    <tr style=\"text-align: right;\">\n",
       "      <th></th>\n",
       "      <th>station</th>\n",
       "      <th>location</th>\n",
       "      <th>channel</th>\n",
       "      <th>latitude</th>\n",
       "      <th>longitude</th>\n",
       "      <th>elevation</th>\n",
       "    </tr>\n",
       "  </thead>\n",
       "  <tbody>\n",
       "    <tr>\n",
       "      <th>1885</th>\n",
       "      <td>1010</td>\n",
       "      <td>CC</td>\n",
       "      <td>HNZ</td>\n",
       "      <td>39.81580</td>\n",
       "      <td>-122.33594</td>\n",
       "      <td>156.0</td>\n",
       "    </tr>\n",
       "    <tr>\n",
       "      <th>1886</th>\n",
       "      <td>1010</td>\n",
       "      <td>D2</td>\n",
       "      <td>HNZ</td>\n",
       "      <td>39.81796</td>\n",
       "      <td>-122.33601</td>\n",
       "      <td>119.0</td>\n",
       "    </tr>\n",
       "    <tr>\n",
       "      <th>1887</th>\n",
       "      <td>1010</td>\n",
       "      <td>LT</td>\n",
       "      <td>HNZ</td>\n",
       "      <td>39.81384</td>\n",
       "      <td>-122.33770</td>\n",
       "      <td>123.0</td>\n",
       "    </tr>\n",
       "    <tr>\n",
       "      <th>1889</th>\n",
       "      <td>1010</td>\n",
       "      <td>RA</td>\n",
       "      <td>HNZ</td>\n",
       "      <td>39.81258</td>\n",
       "      <td>-122.33628</td>\n",
       "      <td>161.0</td>\n",
       "    </tr>\n",
       "    <tr>\n",
       "      <th>1890</th>\n",
       "      <td>1010</td>\n",
       "      <td>UT</td>\n",
       "      <td>HNZ</td>\n",
       "      <td>39.81384</td>\n",
       "      <td>-122.33770</td>\n",
       "      <td>152.0</td>\n",
       "    </tr>\n",
       "  </tbody>\n",
       "</table>\n",
       "</div>"
      ],
      "text/plain": [
       "     station location channel  latitude  longitude  elevation\n",
       "1885    1010       CC     HNZ  39.81580 -122.33594      156.0\n",
       "1886    1010       D2     HNZ  39.81796 -122.33601      119.0\n",
       "1887    1010       LT     HNZ  39.81384 -122.33770      123.0\n",
       "1889    1010       RA     HNZ  39.81258 -122.33628      161.0\n",
       "1890    1010       UT     HNZ  39.81384 -122.33770      152.0"
      ]
     },
     "execution_count": 4,
     "metadata": {},
     "output_type": "execute_result"
    }
   ],
   "source": [
    "# inv_file = f'../data/eq_data/3_station_catalogs/00_station_inventory_master.txt'\n",
    "skhash_station_df = skrun.make_SKHASH_station_file(\n",
    "    given_inventory='./temp_inv.txt',\n",
    "    keep_Z_only = True, \n",
    "    drop_duplicates = True,\n",
    "    )\n",
    "\n",
    "skhash_station_df.head()"
   ]
  },
  {
   "cell_type": "markdown",
   "metadata": {},
   "source": [
    "##  Fix missisng locations problem"
   ]
  },
  {
   "cell_type": "raw",
   "metadata": {
    "vscode": {
     "languageId": "raw"
    }
   },
   "source": [
    "# Create a unique identifier for each station-location-channel combination\n",
    "def create_id(df):\n",
    "    return df['station'] + '.' + df['location'] + '.' + df['channel']\n",
    "\n",
    "StaLocCha_df = skhash_pol_df[['station', 'location', 'channel']].copy().drop_duplicates()\n",
    "# Apply the function to both dataframes\n",
    "StaLocCha_df['id'] = create_id(StaLocCha_df)\n",
    "skhash_station_df['id'] = create_id(skhash_station_df)\n",
    "\n",
    "# Find missing stations\n",
    "missing_stations = StaLocCha_df[~StaLocCha_df['id'].isin(skhash_station_df['id'])]\n",
    "\n",
    "# Iterate over missing stations\n",
    "for _, row in missing_stations.iterrows():\n",
    "    sta = row.station\n",
    "    if sta in skhash_station_df['station'].values:\n",
    "        # Get existing station data\n",
    "        existing_station = skhash_station_df[skhash_station_df['station'] == sta].iloc[0]\n",
    "        # Update location and channel with missing station data\n",
    "        existing_station.update(row[['location', 'channel']])\n",
    "        # print('updated station:\\n', existing_station)\n",
    "        # Add to station dataframe\n",
    "        skhash_station_df = pd.concat([skhash_station_df, existing_station.to_frame().T], ignore_index=True)\n",
    "    else:\n",
    "        print(f\"Station {sta} from pol file is not in station file\")\n",
    "# Remove 'id' column\n",
    "skhash_station_df = skhash_station_df.drop(columns='id')"
   ]
  },
  {
   "cell_type": "markdown",
   "metadata": {},
   "source": [
    "## Write out polarity and station files"
   ]
  },
  {
   "cell_type": "code",
   "execution_count": 5,
   "metadata": {},
   "outputs": [
    {
     "name": "stdout",
     "output_type": "stream",
     "text": [
      "Saved to /Users/mdarifulislam/Library/CloudStorage/OneDrive-IndianaUniversity/Research/Github/FM2STRESS/FM2STRESS_project/code/../results/foc_mech/NCEDC_comp/HASH_IN_OUT/IN/pol_concensus_NCEDC_PN_noQC_2008.csv\n",
      "Saved to /Users/mdarifulislam/Library/CloudStorage/OneDrive-IndianaUniversity/Research/Github/FM2STRESS/FM2STRESS_project/code/../results/foc_mech/NCEDC_comp/HASH_IN_OUT/IN/station_master.csv\n"
     ]
    }
   ],
   "source": [
    "pol_file = f\"{output_path}/pol_concensus_{out_id}.csv\"\n",
    "skhash_pol_df.to_csv(pol_file, index=False)\n",
    "print(f\"Saved to {pol_file}\")\n",
    "\n",
    "sta_file = f\"{output_path}/station_master.csv\"\n",
    "skhash_station_df.to_csv(sta_file, index=False)\n",
    "print(f\"Saved to {sta_file}\")"
   ]
  },
  {
   "cell_type": "markdown",
   "metadata": {},
   "source": [
    "### Reverse file [SKHASH format]\n"
   ]
  },
  {
   "cell_type": "raw",
   "metadata": {
    "vscode": {
     "languageId": "raw"
    }
   },
   "source": [
    "skhash_reverse_df = skrun.make_skhash_reverse_file(f\"{skhash_mtj_dir}/IN/pol_concensus_pyroko.csv\", output_path=None) # make sure the polarity file has been created\n",
    "skhash_reverse_df.to_csv(f\"{skhash_mtj_dir}/IN/reverse_pyroko.csv\", index=False)"
   ]
  },
  {
   "cell_type": "markdown",
   "metadata": {},
   "source": [
    "### Make control file [SKHASH format]"
   ]
  },
  {
   "cell_type": "code",
   "execution_count": 6,
   "metadata": {},
   "outputs": [],
   "source": [
    "sk_out_dir = f'{sk_in_out_dir}/OUT'\n",
    "control_file = skrun.edit_skhash_control_file(\n",
    "    # input files\n",
    "    conpfile = pol_file,\n",
    "    stfile = sta_file,\n",
    "    vmodel_paths = f'{sk_in_out_dir}/IN/vz.MTJ.txt',\n",
    "\n",
    "    # output files\n",
    "    outfile1 = f'{sk_out_dir}/out_{out_id}.csv',\n",
    "    outfile2 = f'{sk_out_dir}/out2_{out_id}.csv',\n",
    "    outfile_pol_agree = f'{sk_out_dir}/out_polagree_{out_id}.csv',\n",
    "    outfile_pol_info = f'{sk_out_dir}/out_polinfo_{out_id}.csv',\n",
    "    outfolder_plots = f'{sk_out_dir}/plots_{out_id}',\n",
    "\n",
    "    delmax = 150, # magnitude variable pick files are used, so this doesn't matter\n",
    "    plot_station_names = True,\n",
    "    plot_acceptable_solutions = True,\n",
    ")"
   ]
  },
  {
   "cell_type": "markdown",
   "metadata": {},
   "source": [
    "### Write control file"
   ]
  },
  {
   "cell_type": "code",
   "execution_count": 7,
   "metadata": {},
   "outputs": [
    {
     "name": "stdout",
     "output_type": "stream",
     "text": [
      "/Users/mdarifulislam/Library/CloudStorage/OneDrive-IndianaUniversity/Research/Github/FM2STRESS/FM2STRESS_project/code/../results/foc_mech/NCEDC_comp/HASH_IN_OUT/controlfile_NCEDC_PN_noQC_2008.txt\n"
     ]
    }
   ],
   "source": [
    "# write the control file into a text file   \n",
    "control_file_path = f'{sk_in_out_dir}/controlfile_{out_id}.txt'\n",
    "with open(control_file_path, 'w') as f:\n",
    "    f.write(control_file)\n",
    "\n",
    "print(control_file_path)"
   ]
  },
  {
   "cell_type": "markdown",
   "metadata": {},
   "source": [
    "# Run SkHash in bash\n",
    "cd into SkHash folder and run the following code in terminal"
   ]
  },
  {
   "cell_type": "code",
   "execution_count": 10,
   "metadata": {},
   "outputs": [
    {
     "name": "stdout",
     "output_type": "stream",
     "text": [
      "Making the script executable...\n"
     ]
    },
    {
     "data": {
      "text/plain": [
       "0"
      ]
     },
     "execution_count": 10,
     "metadata": {},
     "output_type": "execute_result"
    }
   ],
   "source": [
    "bash_script = f\"\"\"#!/bin/bash\n",
    "cd {skhash_dir}\n",
    "\n",
    "# Activate conda pythoon environment named 'obspy' [********change miniconda3 to anaconda3 if using Anaconda]\n",
    "source ~/miniconda3/etc/profile.d/conda.sh # or source ~/anaconda3/etc/profile.d/conda.sh in case of Anaconda\n",
    "# conda init\n",
    "conda activate obspy\n",
    "\n",
    "python3 SKHASH.py {control_file_path}\n",
    "\"\"\"\n",
    "\n",
    "with open(f'{sk_in_out_dir}/run_skhash_{out_id}.sh', 'w') as f:\n",
    "    f.write(bash_script)\n",
    "\n",
    "# Make the script executable\n",
    "print(\"Making the script executable...\")\n",
    "os.system(f\"chmod +x {sk_in_out_dir}/run_skhash_{out_id}.sh\")"
   ]
  },
  {
   "cell_type": "code",
   "execution_count": 11,
   "metadata": {},
   "outputs": [
    {
     "name": "stdout",
     "output_type": "stream",
     "text": [
      "Running SKHASH...\n",
      "========================\n",
      "SKHASH v0.1 (2024-02-16)\n",
      "========================\n",
      "Control file: /Users/mdarifulislam/Library/CloudStorage/OneDrive-IndianaUniversity/Research/Github/FM2STRESS/FM2STRESS_project/code/../results/foc_mech/NCEDC_comp/HASH_IN_OUT/controlfile_NCEDC_PN_noQC_2008.txt\n",
      "WARNING: Earthquake depth (42.34) in polarity record is greater than the maximum lookup table depth (39 km). Setting hypocentral depth to 39 km.\n",
      "WARNING: Earthquake depth (-1.28) in polarity record is less than the minimum lookup table depth (0 km). Setting hypocentral depth to 0 km.\n"
     ]
    },
    {
     "name": "stderr",
     "output_type": "stream",
     "text": [
      "Traceback (most recent call last):\n",
      "  File \"/Users/mdarifulislam/Library/CloudStorage/OneDrive-IndianaUniversity/Research/Github/FM2STRESS/FM2STRESS_project/code/SKHASH2/SKHASH/SKHASH.py\", line 323, in <module>\n",
      "    pol_df=in_sta.apply_station_locations(pol_df,station_df,p_dict)\n",
      "  File \"/Users/mdarifulislam/Library/CloudStorage/OneDrive-IndianaUniversity/Research/Github/FM2STRESS/FM2STRESS_project/code/SKHASH2/SKHASH/functions/in_sta.py\", line 121, in apply_station_locations\n",
      "    raise ValueError('Missing metadata for {} measurements. Example missing stations:\\n{}'.format(num_missing_sta,missing_sta_df.head(10).to_string()))\n",
      "ValueError: Missing metadata for 195 measurements. Example missing stations:\n",
      "0     KCS.--.SH\n",
      "1     KCR.--.SH\n",
      "2    ME30.01.BH\n",
      "3    KHMB.--.HH\n",
      "4    KHBB.--.HH\n",
      "5     KPP.--.SH\n",
      "6    ME39.01.BH\n",
      "7    ME08.01.BH\n",
      "8     KKP.--.SH\n",
      "9     KSM.--.SH\n"
     ]
    }
   ],
   "source": [
    "# Run the script\n",
    "run = input(\"Do you want to run SkHASH now? (y/n): \")\n",
    "# run = \"y\"\n",
    "if run.lower() == \"y\":\n",
    "    print(\"Running SKHASH...\")\n",
    "    os.system(f\"{sk_in_out_dir}/run_skhash_{out_id}.sh\")\n",
    "else:\n",
    "    print(\"SKHASH will not be run. Exiting...\")"
   ]
  },
  {
   "cell_type": "code",
   "execution_count": 118,
   "metadata": {},
   "outputs": [
    {
     "name": "stdout",
     "output_type": "stream",
     "text": [
      "/Users/mdarifulislam/Library/CloudStorage/OneDrive-IndianaUniversity/Research/Github/FM2STRESS/FM2STRESS_project/code/../code/SKHASH2/SKHASH/examples/maacama_SKHASH_MTJ/NCEDC/OUT/out_NCEDC_2008.csv\n"
     ]
    },
    {
     "data": {
      "text/html": [
       "<div>\n",
       "<style scoped>\n",
       "    .dataframe tbody tr th:only-of-type {\n",
       "        vertical-align: middle;\n",
       "    }\n",
       "\n",
       "    .dataframe tbody tr th {\n",
       "        vertical-align: top;\n",
       "    }\n",
       "\n",
       "    .dataframe thead th {\n",
       "        text-align: right;\n",
       "    }\n",
       "</style>\n",
       "<table border=\"1\" class=\"dataframe\">\n",
       "  <thead>\n",
       "    <tr style=\"text-align: right;\">\n",
       "      <th></th>\n",
       "      <th>event_id</th>\n",
       "      <th>strike</th>\n",
       "      <th>dip</th>\n",
       "      <th>rake</th>\n",
       "      <th>quality</th>\n",
       "      <th>fault_plane_uncertainty</th>\n",
       "      <th>aux_plane_uncertainty</th>\n",
       "      <th>num_p_pol</th>\n",
       "      <th>num_sp_ratios</th>\n",
       "      <th>polarity_misfit</th>\n",
       "      <th>prob_mech</th>\n",
       "      <th>sta_distribution_ratio</th>\n",
       "      <th>sp_misfit</th>\n",
       "      <th>mult_solution_flag</th>\n",
       "    </tr>\n",
       "  </thead>\n",
       "  <tbody>\n",
       "    <tr>\n",
       "      <th>0</th>\n",
       "      <td>nc40210243</td>\n",
       "      <td>308.2631</td>\n",
       "      <td>57.5293</td>\n",
       "      <td>-154.5590</td>\n",
       "      <td>D</td>\n",
       "      <td>45.4795</td>\n",
       "      <td>43.2847</td>\n",
       "      <td>11</td>\n",
       "      <td>0</td>\n",
       "      <td>29.7</td>\n",
       "      <td>37.8</td>\n",
       "      <td>43.6</td>\n",
       "      <td>0.0</td>\n",
       "      <td>True</td>\n",
       "    </tr>\n",
       "    <tr>\n",
       "      <th>1</th>\n",
       "      <td>nc51211334</td>\n",
       "      <td>133.0376</td>\n",
       "      <td>44.2839</td>\n",
       "      <td>-56.7493</td>\n",
       "      <td>D</td>\n",
       "      <td>47.1709</td>\n",
       "      <td>43.5931</td>\n",
       "      <td>15</td>\n",
       "      <td>0</td>\n",
       "      <td>20.0</td>\n",
       "      <td>35.6</td>\n",
       "      <td>40.3</td>\n",
       "      <td>0.0</td>\n",
       "      <td>True</td>\n",
       "    </tr>\n",
       "    <tr>\n",
       "      <th>2</th>\n",
       "      <td>nc71107796</td>\n",
       "      <td>309.9583</td>\n",
       "      <td>56.3529</td>\n",
       "      <td>142.8182</td>\n",
       "      <td>D</td>\n",
       "      <td>43.8946</td>\n",
       "      <td>45.7484</td>\n",
       "      <td>14</td>\n",
       "      <td>0</td>\n",
       "      <td>24.9</td>\n",
       "      <td>31.4</td>\n",
       "      <td>39.2</td>\n",
       "      <td>0.0</td>\n",
       "      <td>True</td>\n",
       "    </tr>\n",
       "    <tr>\n",
       "      <th>3</th>\n",
       "      <td>nc71104416</td>\n",
       "      <td>345.2415</td>\n",
       "      <td>72.5140</td>\n",
       "      <td>-141.1189</td>\n",
       "      <td>D</td>\n",
       "      <td>47.2383</td>\n",
       "      <td>45.4418</td>\n",
       "      <td>12</td>\n",
       "      <td>0</td>\n",
       "      <td>19.3</td>\n",
       "      <td>28.4</td>\n",
       "      <td>35.7</td>\n",
       "      <td>0.0</td>\n",
       "      <td>False</td>\n",
       "    </tr>\n",
       "    <tr>\n",
       "      <th>4</th>\n",
       "      <td>nc71103341</td>\n",
       "      <td>95.9428</td>\n",
       "      <td>68.5420</td>\n",
       "      <td>175.2417</td>\n",
       "      <td>D</td>\n",
       "      <td>41.6225</td>\n",
       "      <td>42.9019</td>\n",
       "      <td>9</td>\n",
       "      <td>0</td>\n",
       "      <td>0.0</td>\n",
       "      <td>37.4</td>\n",
       "      <td>62.6</td>\n",
       "      <td>0.0</td>\n",
       "      <td>False</td>\n",
       "    </tr>\n",
       "  </tbody>\n",
       "</table>\n",
       "</div>"
      ],
      "text/plain": [
       "     event_id    strike      dip      rake quality  fault_plane_uncertainty  \\\n",
       "0  nc40210243  308.2631  57.5293 -154.5590       D                  45.4795   \n",
       "1  nc51211334  133.0376  44.2839  -56.7493       D                  47.1709   \n",
       "2  nc71107796  309.9583  56.3529  142.8182       D                  43.8946   \n",
       "3  nc71104416  345.2415  72.5140 -141.1189       D                  47.2383   \n",
       "4  nc71103341   95.9428  68.5420  175.2417       D                  41.6225   \n",
       "\n",
       "   aux_plane_uncertainty  num_p_pol  num_sp_ratios  polarity_misfit  \\\n",
       "0                43.2847         11              0             29.7   \n",
       "1                43.5931         15              0             20.0   \n",
       "2                45.7484         14              0             24.9   \n",
       "3                45.4418         12              0             19.3   \n",
       "4                42.9019          9              0              0.0   \n",
       "\n",
       "   prob_mech  sta_distribution_ratio  sp_misfit  mult_solution_flag  \n",
       "0       37.8                    43.6        0.0                True  \n",
       "1       35.6                    40.3        0.0                True  \n",
       "2       31.4                    39.2        0.0                True  \n",
       "3       28.4                    35.7        0.0               False  \n",
       "4       37.4                    62.6        0.0               False  "
      ]
     },
     "execution_count": 118,
     "metadata": {},
     "output_type": "execute_result"
    }
   ],
   "source": [
    "# check the output file\n",
    "out_file = f'{sk_out_dir}/out_{out_id}.csv'\n",
    "out_df = pd.read_csv(out_file).sort_values('quality', ascending=False, ignore_index=True)\n",
    "print(out_file)\n",
    "out_df.head()"
   ]
  },
  {
   "cell_type": "code",
   "execution_count": 117,
   "metadata": {},
   "outputs": [
    {
     "data": {
      "image/png": "[encoded data removed]",
      "text/plain": [
       "<Figure size 640x480 with 1 Axes>"
      ]
     },
     "metadata": {},
     "output_type": "display_data"
    }
   ],
   "source": [
    "# each group how much percentage of the total\n",
    "out_df['quality'].value_counts(normalize=False).plot(kind='bar')\n",
    "plt.title('Quality distribution of the SKHASH solutions: \\nNCEDC catalog + PhaseNet picks')\n",
    "\n",
    "plt.show()"
   ]
  },
  {
   "cell_type": "code",
   "execution_count": null,
   "metadata": {},
   "outputs": [],
   "source": []
  }
 ],
 "metadata": {
  "kernelspec": {
   "display_name": "obspy",
   "language": "python",
   "name": "python3"
  },
  "language_info": {
   "codemirror_mode": {
    "name": "ipython",
    "version": 3
   },
   "file_extension": ".py",
   "mimetype": "text/x-python",
   "name": "python",
   "nbconvert_exporter": "python",
   "pygments_lexer": "ipython3",
   "version": "3.10.14"
  }
 },
 "nbformat": 4,
 "nbformat_minor": 2
}
