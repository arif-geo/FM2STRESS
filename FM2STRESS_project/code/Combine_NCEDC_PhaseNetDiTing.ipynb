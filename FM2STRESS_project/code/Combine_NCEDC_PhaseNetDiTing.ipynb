{
 "cells": [
  {
   "cell_type": "markdown",
   "metadata": {},
   "source": [
    "# if NCEDC  picks are missing and it is available from PhaseNet(P-arrival)+DiTing(P-polarity), then combine"
   ]
  },
  {
   "cell_type": "code",
   "execution_count": null,
   "metadata": {},
   "outputs": [],
   "source": [
    "nc_picks_dir = '../data/NCEDC_picks'\n"
   ]
  }
 ],
 "metadata": {
  "language_info": {
   "name": "python"
  }
 },
 "nbformat": 4,
 "nbformat_minor": 2
}
