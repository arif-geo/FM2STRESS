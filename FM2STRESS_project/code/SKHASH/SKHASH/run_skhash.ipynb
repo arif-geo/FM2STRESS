{
 "cells": [
  {
   "cell_type": "code",
   "execution_count": 3,
   "metadata": {},
   "outputs": [
    {
     "name": "stdout",
     "output_type": "stream",
     "text": [
      "controlfile : examples/maacama_SKHASH_MTJ/control_file.txt\n",
      "========================\n",
      "SKHASH v0.1 (2023-12-15)\n",
      "========================\n",
      "Control file: examples/maacama_SKHASH_MTJ/control_file.txt\n",
      "Discarded 30 of the 765 polarity measurements with source-receiver distances >200 km\n",
      "Creating lookup table (0/0): examples/velocity_models_MTJ/vz.MTJ.txt\n",
      "\tCreated table.\n",
      "Computing mechanisms in serial...\n",
      "0 / 24\t(nc40216664)\n",
      "\tS: 131.5581   D: 52.8695   R: -113.4052   U: 20.4576   Q: B\n",
      "\tRuntime: 0.34 sec\n",
      "1 / 24\t(nc40221138)\n",
      "\tMaximum azimuthal gap (92.226) > max_agap (90.0). Skipping.\n",
      "2 / 24\t(nc51197189)\n",
      "\tS: 94.6155   D: 59.9937   R: -160.0779   U: 36.1464   Q: C\n",
      "\tRuntime: 0.14 sec\n",
      "3 / 24\t(nc51207076)\n",
      "\tMaximum azimuthal gap (99.674) > max_agap (90.0). Skipping.\n",
      "4 / 24\t(nc51207214)\n",
      "\tS: 33.7997   D: 46.5963   R: -127.2604   U: 34.0601   Q: D\n",
      "\tRuntime: 0.22 sec\n",
      "5 / 24\t(nc51207829)\n",
      "\tS: 128.2814   D: 79.1782   R: -168.7461   U: 15.5392   Q: C\n",
      "\tRuntime: 0.25 sec\n",
      "6 / 24\t(nc51208596)\n",
      "\tMaximum azimuthal gap (235.29) > max_agap (90.0). Skipping.\n",
      "7 / 24\t(nc71100926)\n",
      "\tMaximum azimuthal gap (96.859) > max_agap (90.0). Skipping.\n",
      "8 / 24\t(nc71180461)\n",
      "\tMaximum azimuthal gap (260.392) > max_agap (90.0). Skipping.\n",
      "9 / 24\t(nc71339731)\n",
      "\tMaximum azimuthal gap (218.359) > max_agap (90.0). Skipping.\n",
      "10 / 24\t(nc71349716)\n",
      "\tS: 128.5705   D: 82.9351   R: 170.2031   U: 42.0526   Q: D\n",
      "\tRuntime: 0.12 sec\n",
      "11 / 24\t(nc71544046)\n",
      "\tMaximum azimuthal gap (268.918) > max_agap (90.0). Skipping.\n",
      "12 / 24\t(nc71872550)\n",
      "\tMaximum azimuthal gap (99.496) > max_agap (90.0). Skipping.\n",
      "13 / 24\t(nc72006040)\n",
      "\tMaximum azimuthal gap (101.864) > max_agap (90.0). Skipping.\n",
      "14 / 24\t(nc72086051)\n",
      "\tMaximum azimuthal gap (262.12) > max_agap (90.0). Skipping.\n",
      "15 / 24\t(nc72322146)\n",
      "\tS: 127.1447   D: 60.3509   R: -169.5057   U: 25.7016   Q: D\n",
      "\tRuntime: 0.32 sec\n",
      "16 / 24\t(nc72946846)\n",
      "\tS: 220.472   D: 67.6858   R: 140.1266   U: 42.3806   Q: C\n",
      "\tRuntime: 0.17 sec\n",
      "17 / 24\t(nc73024816)\n",
      "\tS: 328.979   D: 63.4556   R: -145.3443   U: 38.103   Q: C\n",
      "\tRuntime: 0.16 sec\n",
      "18 / 24\t(nc73118836)\n",
      "\tMaximum azimuthal gap (91.37) > max_agap (90.0). Skipping.\n",
      "19 / 24\t(nc73139111)\n",
      "\tMaximum azimuthal gap (256.085) > max_agap (90.0). Skipping.\n",
      "20 / 24\t(nc73139526)\n",
      "\tMaximum azimuthal gap (134.506) > max_agap (90.0). Skipping.\n",
      "21 / 24\t(nc73201181)\n",
      "\tS: 106.1347   D: 88.3449   R: 176.7315   U: 22.6575   Q: C\n",
      "\tRuntime: 0.31 sec\n",
      "22 / 24\t(nc73311641)\n",
      "\tS: 163.4793   D: 40.8126   R: -112.8552   U: 21.0482   Q: B\n",
      "\tRuntime: 0.24 sec\n",
      "23 / 24\t(nc73629686)\n",
      "\tS: 38.9011   D: 79.6067   R: -156.4211   U: 43.9089   Q: C\n",
      "\tRuntime: 0.24 sec\n",
      "24 / 24\t(nc73783911)\n",
      "\tMaximum azimuthal gap (96.264) > max_agap (90.0). Skipping.\n",
      "Mech computation runtime: 2.51 sec\n",
      "Total runtime: 2.87 sec\n"
     ]
    },
    {
     "data": {
      "text/plain": [
       "0"
      ]
     },
     "execution_count": 3,
     "metadata": {},
     "output_type": "execute_result"
    }
   ],
   "source": [
    "import os\n",
    "\n",
    "os.system(\"python3 SKHASH.py examples/maacama_SKHASH_MTJ/control_file.txt\")"
   ]
  }
 ],
 "metadata": {
  "kernelspec": {
   "display_name": "obspy",
   "language": "python",
   "name": "python3"
  },
  "language_info": {
   "codemirror_mode": {
    "name": "ipython",
    "version": 3
   },
   "file_extension": ".py",
   "mimetype": "text/x-python",
   "name": "python",
   "nbconvert_exporter": "python",
   "pygments_lexer": "ipython3",
   "version": "3.10.13"
  }
 },
 "nbformat": 4,
 "nbformat_minor": 2
}
