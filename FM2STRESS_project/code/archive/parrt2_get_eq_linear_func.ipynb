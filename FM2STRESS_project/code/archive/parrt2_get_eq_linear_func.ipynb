{
 "cells": [
  {
   "cell_type": "code",
   "execution_count": null,
   "metadata": {},
   "outputs": [],
   "source": []
  },
  {
   "cell_type": "code",
   "execution_count": null,
   "metadata": {},
   "outputs": [],
   "source": [
    "import os\n",
    "import time\n",
    "import pandas as pd\n",
    "from obspy.clients.fdsn import Client\n",
    "from obspy import UTCDateTime, read_inventory, Inventory, read, Stream"
   ]
  },
  {
   "cell_type": "code",
   "execution_count": null,
   "metadata": {},
   "outputs": [],
   "source": [
    "# reload the module to get the latest changes\n",
    "import sys\n",
    "sys.path.append('./my_funcs')\n",
    "%load_ext autoreload\n",
    "%autoreload 2\n",
    "\n",
    "import glob\n",
    "import os \n",
    "# import the `get_waveforms` function\n",
    "from my_funcs.get_waveforms import get_waveforms\n",
    "\n",
    "# define the client list i.e. the data centers to download data from\n",
    "client_list = ['IRIS', 'NCEDC']#, 'IRIS', 'SCEDC']\n",
    "\n",
    "# get a list of all the event id folders\n",
    "event_paths = glob.glob(\"../data/eq_data/*\")\n",
    "event_ids = [os.path.basename(path) for path in event_paths]\n",
    "\n",
    "# Read earthquake data\n",
    "eqdf = pd.read_csv(\"../data/above_slab_eq_df.csv\", parse_dates=[\"time\"])\n",
    "\n",
    "# define the priority channels\n",
    "priority_channels = ['HH*', 'BH*', 'HN*', 'EH*']\n",
    "\n",
    "event_ids = ['nc73201181'] # test with one event\n",
    "# loop through each event id and download the data\n",
    "for event_id in event_ids:\n",
    "\n",
    "    # define the output folder\n",
    "    output_folder = f\"../data/eq_data/{event_id}/\"\n",
    "\n",
    "    # check if the event data is already downloaded\n",
    "    if os.path.exists(f\"../data/eq_data/{event_id}/{event_id}.mseed\"):\n",
    "        print(f\"Event {event_id} already downloaded. Skipping...\")\n",
    "        continue\n",
    "\n",
    "    print(f\"Getting data for event {event_id}\")\n",
    "\n",
    "    # Read the inventory\n",
    "    inventory = read_inventory(f\"../data/eq_data/{event_id}/inventory/station_inventory_{event_id}.xml\")\n",
    "\n",
    "    #get the event time, start time and end time\n",
    "    eq = eqdf[eqdf.id == event_id] # get the event details\n",
    "    event_time = UTCDateTime(pd.to_datetime(eq.time.values[0])) # get the event time in UTC format\n",
    "    starttime = event_time - 30 # start time is 30 seconds before the event time\n",
    "    endtime = event_time + 120 # end time is 120 seconds after the event time\n",
    "\n",
    "    # Call the function with the desired parameters\n",
    "    get_waveforms(client_list, inventory, event_id, starttime, endtime, output_folder, priority_channels)\n"
   ]
  },
  {
   "cell_type": "markdown",
   "metadata": {},
   "source": [
    "# Read the inventory files already downloaded and download `.mseed` and station_data (`.xml & .txt`)\n",
    "\n",
    "Here I will read the inventory file which contain details about all the stations that recorded a particular earthquake event. \\\n",
    "From that inventory file I will get all the necessary informations I need to download the seismic data (a numpy timeseries in `.mseed` format). \\\n",
    "I will also download the metadata for that record in `.xml & .txt` formats.\\\n"
   ]
  },
  {
   "cell_type": "code",
   "execution_count": null,
   "metadata": {},
   "outputs": [],
   "source": [
    "import os\n",
    "import time\n",
    "import pandas as pd\n",
    "from obspy.clients.fdsn import Client\n",
    "from obspy import UTCDateTime, read_inventory, Inventory, read, Stream"
   ]
  },
  {
   "cell_type": "code",
   "execution_count": null,
   "metadata": {},
   "outputs": [
    {
     "name": "stdout",
     "output_type": "stream",
     "text": [
      "The autoreload extension is already loaded. To reload it, use:\n",
      "  %reload_ext autoreload\n",
      "Getting data for event nc73201181\n"
     ]
    },
    {
     "data": {
      "application/vnd.jupyter.widget-view+json": {
       "model_id": "d0b8a88aaf7547c6bdb97a4eb35e632b",
       "version_major": 2,
       "version_minor": 0
      },
      "text/plain": [
       "0it [00:00, ?it/s]"
      ]
     },
     "metadata": {},
     "output_type": "display_data"
    },
    {
     "name": "stdout",
     "output_type": "stream",
     "text": [
      "**************************************************\n",
      "Fetching data from IRIS... \n",
      " **************************************************\n"
     ]
    },
    {
     "data": {
      "application/vnd.jupyter.widget-view+json": {
       "model_id": "04e5bd03d0df4c6f9b18b64987d212af",
       "version_major": 2,
       "version_minor": 0
      },
      "text/plain": [
       "0it [00:00, ?it/s]"
      ]
     },
     "metadata": {},
     "output_type": "display_data"
    },
    {
     "data": {
      "application/vnd.jupyter.widget-view+json": {
       "model_id": "cd391c1a1ad04e839e8f2bfe92ae5154",
       "version_major": 2,
       "version_minor": 0
      },
      "text/plain": [
       "  0%|          | 0/3 [00:00<?, ?it/s]"
      ]
     },
     "metadata": {},
     "output_type": "display_data"
    },
    {
     "name": "stdout",
     "output_type": "stream",
     "text": [
      "BK.BRIC.HH*.2019-06-23T03:52:32.890000Z.2019-06-23T03:55:02.890000Z\n",
      "BK.BRIC.BH*.2019-06-23T03:52:32.890000Z.2019-06-23T03:55:02.890000Z\n",
      "BK.BRIC.HN*.2019-06-23T03:52:32.890000Z.2019-06-23T03:55:02.890000Z\n",
      "BK.JCC.HH*.2019-06-23T03:52:32.890000Z.2019-06-23T03:55:02.890000Z\n",
      "BK.JCC.BH*.2019-06-23T03:52:32.890000Z.2019-06-23T03:55:02.890000Z\n",
      "BK.JCC.HN*.2019-06-23T03:52:32.890000Z.2019-06-23T03:55:02.890000Z\n",
      "BK.PETL.HH*.2019-06-23T03:52:32.890000Z.2019-06-23T03:55:02.890000Z\n",
      "BK.PETL.BH*.2019-06-23T03:52:32.890000Z.2019-06-23T03:55:02.890000Z\n",
      "BK.PETL.HN*.2019-06-23T03:52:32.890000Z.2019-06-23T03:55:02.890000Z\n"
     ]
    },
    {
     "data": {
      "application/vnd.jupyter.widget-view+json": {
       "model_id": "0864d3d9fbae4fe4a6f5b4d33fa85ddf",
       "version_major": 2,
       "version_minor": 0
      },
      "text/plain": [
       "  0%|          | 0/14 [00:00<?, ?it/s]"
      ]
     },
     "metadata": {},
     "output_type": "display_data"
    },
    {
     "name": "stdout",
     "output_type": "stream",
     "text": [
      "CE.79036.HN*.2019-06-23T03:52:32.890000Z.2019-06-23T03:55:02.890000Z\n",
      "CE.79435.HN*.2019-06-23T03:52:32.890000Z.2019-06-23T03:55:02.890000Z\n",
      "CE.89005.HN*.2019-06-23T03:52:32.890000Z.2019-06-23T03:55:02.890000Z\n",
      "CE.89101.HN*.2019-06-23T03:52:32.890000Z.2019-06-23T03:55:02.890000Z\n",
      "CE.89146.HN*.2019-06-23T03:52:32.890000Z.2019-06-23T03:55:02.890000Z\n",
      "CE.89255.HN*.2019-06-23T03:52:32.890000Z.2019-06-23T03:55:02.890000Z\n",
      "CE.89462.HN*.2019-06-23T03:52:32.890000Z.2019-06-23T03:55:02.890000Z\n",
      "CE.89464.HN*.2019-06-23T03:52:32.890000Z.2019-06-23T03:55:02.890000Z\n",
      "CE.89486.HN*.2019-06-23T03:52:32.890000Z.2019-06-23T03:55:02.890000Z\n",
      "CE.89530.HN*.2019-06-23T03:52:32.890000Z.2019-06-23T03:55:02.890000Z\n",
      "CE.89688.HN*.2019-06-23T03:52:32.890000Z.2019-06-23T03:55:02.890000Z\n",
      "CE.89734.HN*.2019-06-23T03:52:32.890000Z.2019-06-23T03:55:02.890000Z\n",
      "CE.89781.HN*.2019-06-23T03:52:32.890000Z.2019-06-23T03:55:02.890000Z\n",
      "CE.99640.HN*.2019-06-23T03:52:32.890000Z.2019-06-23T03:55:02.890000Z\n"
     ]
    },
    {
     "data": {
      "application/vnd.jupyter.widget-view+json": {
       "model_id": "6e3f452a43944de2b97ac3df68f717eb",
       "version_major": 2,
       "version_minor": 0
      },
      "text/plain": [
       "  0%|          | 0/21 [00:00<?, ?it/s]"
      ]
     },
     "metadata": {},
     "output_type": "display_data"
    },
    {
     "name": "stdout",
     "output_type": "stream",
     "text": [
      "NC.K002.HN*.2019-06-23T03:52:32.890000Z.2019-06-23T03:55:02.890000Z\n",
      "NC.K003.HN*.2019-06-23T03:52:32.890000Z.2019-06-23T03:55:02.890000Z\n",
      "NC.K004.HN*.2019-06-23T03:52:32.890000Z.2019-06-23T03:55:02.890000Z\n",
      "NC.KBN.EH*.2019-06-23T03:52:32.890000Z.2019-06-23T03:55:02.890000Z\n",
      "NC.KBS.EH*.2019-06-23T03:52:32.890000Z.2019-06-23T03:55:02.890000Z\n",
      "NC.KBU.HN*.2019-06-23T03:52:32.890000Z.2019-06-23T03:55:02.890000Z\n",
      "NC.KBU.EH*.2019-06-23T03:52:32.890000Z.2019-06-23T03:55:02.890000Z\n",
      "NC.KCO.HN*.2019-06-23T03:52:32.890000Z.2019-06-23T03:55:02.890000Z\n",
      "NC.KCO.EH*.2019-06-23T03:52:32.890000Z.2019-06-23T03:55:02.890000Z\n",
      "NC.KCR.EH*.2019-06-23T03:52:32.890000Z.2019-06-23T03:55:02.890000Z\n",
      "NC.KCS.EH*.2019-06-23T03:52:32.890000Z.2019-06-23T03:55:02.890000Z\n",
      "NC.KCT.HH*.2019-06-23T03:52:32.890000Z.2019-06-23T03:55:02.890000Z\n",
      "NC.KCT.HN*.2019-06-23T03:52:32.890000Z.2019-06-23T03:55:02.890000Z\n",
      "NC.KHBB.HH*.2019-06-23T03:52:32.890000Z.2019-06-23T03:55:02.890000Z\n",
      "NC.KHBB.HN*.2019-06-23T03:52:32.890000Z.2019-06-23T03:55:02.890000Z\n",
      "NC.KHMB.HH*.2019-06-23T03:52:32.890000Z.2019-06-23T03:55:02.890000Z\n",
      "NC.KHMB.HN*.2019-06-23T03:52:32.890000Z.2019-06-23T03:55:02.890000Z\n",
      "NC.KIP.EH*.2019-06-23T03:52:32.890000Z.2019-06-23T03:55:02.890000Z\n",
      "NC.KKP.EH*.2019-06-23T03:52:32.890000Z.2019-06-23T03:55:02.890000Z\n",
      "NC.KMPB.HH*.2019-06-23T03:52:32.890000Z.2019-06-23T03:55:02.890000Z\n",
      "NC.KMPB.HN*.2019-06-23T03:52:32.890000Z.2019-06-23T03:55:02.890000Z\n",
      "NC.KMR.HH*.2019-06-23T03:52:32.890000Z.2019-06-23T03:55:02.890000Z\n",
      "NC.KMR.HN*.2019-06-23T03:52:32.890000Z.2019-06-23T03:55:02.890000Z\n",
      "NC.KOM.HN*.2019-06-23T03:52:32.890000Z.2019-06-23T03:55:02.890000Z\n",
      "NC.KOM.EH*.2019-06-23T03:52:32.890000Z.2019-06-23T03:55:02.890000Z\n",
      "NC.KPP.EH*.2019-06-23T03:52:32.890000Z.2019-06-23T03:55:02.890000Z\n",
      "NC.KPR.HN*.2019-06-23T03:52:32.890000Z.2019-06-23T03:55:02.890000Z\n",
      "NC.KPR.EH*.2019-06-23T03:52:32.890000Z.2019-06-23T03:55:02.890000Z\n",
      "NC.KRP.HH*.2019-06-23T03:52:32.890000Z.2019-06-23T03:55:02.890000Z\n",
      "NC.KRP.HN*.2019-06-23T03:52:32.890000Z.2019-06-23T03:55:02.890000Z\n",
      "NC.KSM.EH*.2019-06-23T03:52:32.890000Z.2019-06-23T03:55:02.890000Z\n"
     ]
    },
    {
     "data": {
      "application/vnd.jupyter.widget-view+json": {
       "model_id": "54fd44e5ff3b459ea3448649e9fe1b82",
       "version_major": 2,
       "version_minor": 0
      },
      "text/plain": [
       "  0%|          | 0/8 [00:00<?, ?it/s]"
      ]
     },
     "metadata": {},
     "output_type": "display_data"
    },
    {
     "name": "stdout",
     "output_type": "stream",
     "text": [
      "NP.1023.HN*.2019-06-23T03:52:32.890000Z.2019-06-23T03:55:02.890000Z\n",
      "NP.1580.HN*.2019-06-23T03:52:32.890000Z.2019-06-23T03:55:02.890000Z\n",
      "NP.1581.HN*.2019-06-23T03:52:32.890000Z.2019-06-23T03:55:02.890000Z\n",
      "NP.1582.HN*.2019-06-23T03:52:32.890000Z.2019-06-23T03:55:02.890000Z\n",
      "NP.1584.HN*.2019-06-23T03:52:32.890000Z.2019-06-23T03:55:02.890000Z\n",
      "NP.1586.HN*.2019-06-23T03:52:32.890000Z.2019-06-23T03:55:02.890000Z\n",
      "NP.1591.HN*.2019-06-23T03:52:32.890000Z.2019-06-23T03:55:02.890000Z\n",
      "NP.1725.HN*.2019-06-23T03:52:32.890000Z.2019-06-23T03:55:02.890000Z\n"
     ]
    },
    {
     "data": {
      "application/vnd.jupyter.widget-view+json": {
       "model_id": "1001f31eeaf748569d8be24d5a4d2087",
       "version_major": 2,
       "version_minor": 0
      },
      "text/plain": [
       "  0%|          | 0/8 [00:00<?, ?it/s]"
      ]
     },
     "metadata": {},
     "output_type": "display_data"
    },
    {
     "name": "stdout",
     "output_type": "stream",
     "text": [
      "PB.B045.EH*.2019-06-23T03:52:32.890000Z.2019-06-23T03:55:02.890000Z\n",
      "******** waveform downloaded PB.B045.EH* from IRIS.\n",
      " inventory downloaded: 1 out of 54 stations\n",
      "PB.B046.EH*.2019-06-23T03:52:32.890000Z.2019-06-23T03:55:02.890000Z\n",
      "******** waveform downloaded PB.B046.EH* from IRIS.\n",
      " inventory downloaded: 2 out of 54 stations\n",
      "PB.B047.EH*.2019-06-23T03:52:32.890000Z.2019-06-23T03:55:02.890000Z\n",
      "******** waveform downloaded PB.B047.EH* from IRIS.\n",
      " inventory downloaded: 3 out of 54 stations\n",
      "PB.B049.EH*.2019-06-23T03:52:32.890000Z.2019-06-23T03:55:02.890000Z\n",
      "******** waveform downloaded PB.B049.EH* from IRIS.\n",
      " inventory downloaded: 4 out of 54 stations\n",
      "PB.B932.EH*.2019-06-23T03:52:32.890000Z.2019-06-23T03:55:02.890000Z\n",
      "******** waveform downloaded PB.B932.EH* from IRIS.\n",
      " inventory downloaded: 5 out of 54 stations\n",
      "PB.B933.EH*.2019-06-23T03:52:32.890000Z.2019-06-23T03:55:02.890000Z\n",
      "******** waveform downloaded PB.B933.EH* from IRIS.\n",
      " inventory downloaded: 6 out of 54 stations\n",
      "PB.B934.EH*.2019-06-23T03:52:32.890000Z.2019-06-23T03:55:02.890000Z\n",
      "******** waveform downloaded PB.B934.EH* from IRIS.\n",
      " inventory downloaded: 7 out of 54 stations\n",
      "PB.B935.EH*.2019-06-23T03:52:32.890000Z.2019-06-23T03:55:02.890000Z\n",
      "******** waveform downloaded PB.B935.EH* from IRIS.\n",
      " inventory downloaded: 8 out of 54 stations\n",
      "**************************************************\n",
      "Fetching data from NCEDC... \n",
      " **************************************************\n"
     ]
    },
    {
     "data": {
      "application/vnd.jupyter.widget-view+json": {
       "model_id": "e7c6c8bbabcf44ffa6a0f39a5b15b0a7",
       "version_major": 2,
       "version_minor": 0
      },
      "text/plain": [
       "0it [00:00, ?it/s]"
      ]
     },
     "metadata": {},
     "output_type": "display_data"
    },
    {
     "data": {
      "application/vnd.jupyter.widget-view+json": {
       "model_id": "b047e2f411a8475fb35195997cc5e7f9",
       "version_major": 2,
       "version_minor": 0
      },
      "text/plain": [
       "  0%|          | 0/3 [00:00<?, ?it/s]"
      ]
     },
     "metadata": {},
     "output_type": "display_data"
    },
    {
     "name": "stdout",
     "output_type": "stream",
     "text": [
      "BK.BRIC.HH*.2019-06-23T03:52:32.890000Z.2019-06-23T03:55:02.890000Z\n",
      "******** waveform downloaded BK.BRIC.HH* from NCEDC.\n",
      " inventory downloaded: 9 out of 54 stations\n",
      "BK.JCC.HH*.2019-06-23T03:52:32.890000Z.2019-06-23T03:55:02.890000Z\n",
      "******** waveform downloaded BK.JCC.HH* from NCEDC.\n",
      " inventory downloaded: 10 out of 54 stations\n",
      "BK.PETL.HH*.2019-06-23T03:52:32.890000Z.2019-06-23T03:55:02.890000Z\n",
      "******** waveform downloaded BK.PETL.HH* from NCEDC.\n",
      " inventory downloaded: 11 out of 54 stations\n"
     ]
    },
    {
     "data": {
      "application/vnd.jupyter.widget-view+json": {
       "model_id": "c50c0465c43e41c0adbc3ce10f930b8a",
       "version_major": 2,
       "version_minor": 0
      },
      "text/plain": [
       "  0%|          | 0/14 [00:00<?, ?it/s]"
      ]
     },
     "metadata": {},
     "output_type": "display_data"
    },
    {
     "name": "stdout",
     "output_type": "stream",
     "text": [
      "CE.79036.HN*.2019-06-23T03:52:32.890000Z.2019-06-23T03:55:02.890000Z\n",
      "******** waveform downloaded CE.79036.HN* from NCEDC.\n",
      " inventory downloaded: 12 out of 54 stations\n",
      "CE.79435.HN*.2019-06-23T03:52:32.890000Z.2019-06-23T03:55:02.890000Z\n",
      "******** waveform downloaded CE.79435.HN* from NCEDC.\n",
      " inventory downloaded: 13 out of 54 stations\n",
      "CE.89005.HN*.2019-06-23T03:52:32.890000Z.2019-06-23T03:55:02.890000Z\n",
      "CE.89101.HN*.2019-06-23T03:52:32.890000Z.2019-06-23T03:55:02.890000Z\n",
      "******** waveform downloaded CE.89101.HN* from NCEDC.\n",
      " inventory downloaded: 14 out of 54 stations\n",
      "CE.89146.HN*.2019-06-23T03:52:32.890000Z.2019-06-23T03:55:02.890000Z\n",
      "CE.89255.HN*.2019-06-23T03:52:32.890000Z.2019-06-23T03:55:02.890000Z\n",
      "******** waveform downloaded CE.89255.HN* from NCEDC.\n",
      " inventory downloaded: 15 out of 54 stations\n",
      "CE.89462.HN*.2019-06-23T03:52:32.890000Z.2019-06-23T03:55:02.890000Z\n",
      "******** waveform downloaded CE.89462.HN* from NCEDC.\n",
      " inventory downloaded: 16 out of 54 stations\n",
      "CE.89464.HN*.2019-06-23T03:52:32.890000Z.2019-06-23T03:55:02.890000Z\n",
      "******** waveform downloaded CE.89464.HN* from NCEDC.\n",
      " inventory downloaded: 17 out of 54 stations\n",
      "CE.89486.HN*.2019-06-23T03:52:32.890000Z.2019-06-23T03:55:02.890000Z\n",
      "CE.89530.HN*.2019-06-23T03:52:32.890000Z.2019-06-23T03:55:02.890000Z\n",
      "CE.89688.HN*.2019-06-23T03:52:32.890000Z.2019-06-23T03:55:02.890000Z\n",
      "CE.89734.HN*.2019-06-23T03:52:32.890000Z.2019-06-23T03:55:02.890000Z\n",
      "CE.89781.HN*.2019-06-23T03:52:32.890000Z.2019-06-23T03:55:02.890000Z\n",
      "******** waveform downloaded CE.89781.HN* from NCEDC.\n",
      " inventory downloaded: 18 out of 54 stations\n",
      "CE.99640.HN*.2019-06-23T03:52:32.890000Z.2019-06-23T03:55:02.890000Z\n"
     ]
    },
    {
     "data": {
      "application/vnd.jupyter.widget-view+json": {
       "model_id": "9155117cd4304d57b21305301189b184",
       "version_major": 2,
       "version_minor": 0
      },
      "text/plain": [
       "  0%|          | 0/21 [00:00<?, ?it/s]"
      ]
     },
     "metadata": {},
     "output_type": "display_data"
    },
    {
     "name": "stdout",
     "output_type": "stream",
     "text": [
      "NC.K002.HN*.2019-06-23T03:52:32.890000Z.2019-06-23T03:55:02.890000Z\n",
      "NC.K003.HN*.2019-06-23T03:52:32.890000Z.2019-06-23T03:55:02.890000Z\n",
      "NC.K004.HN*.2019-06-23T03:52:32.890000Z.2019-06-23T03:55:02.890000Z\n",
      "NC.KBN.EH*.2019-06-23T03:52:32.890000Z.2019-06-23T03:55:02.890000Z\n",
      "******** waveform downloaded NC.KBN.EH* from NCEDC.\n",
      " inventory downloaded: 19 out of 54 stations\n",
      "NC.KBS.EH*.2019-06-23T03:52:32.890000Z.2019-06-23T03:55:02.890000Z\n",
      "******** waveform downloaded NC.KBS.EH* from NCEDC.\n",
      " inventory downloaded: 20 out of 54 stations\n",
      "NC.KBU.HN*.2019-06-23T03:52:32.890000Z.2019-06-23T03:55:02.890000Z\n",
      "******** waveform downloaded NC.KBU.HN* from NCEDC.\n",
      " inventory downloaded: 21 out of 54 stations\n",
      "NC.KCO.HN*.2019-06-23T03:52:32.890000Z.2019-06-23T03:55:02.890000Z\n",
      "******** waveform downloaded NC.KCO.HN* from NCEDC.\n",
      " inventory downloaded: 22 out of 54 stations\n",
      "NC.KCR.EH*.2019-06-23T03:52:32.890000Z.2019-06-23T03:55:02.890000Z\n",
      "******** waveform downloaded NC.KCR.EH* from NCEDC.\n",
      " inventory downloaded: 23 out of 54 stations\n",
      "NC.KCS.EH*.2019-06-23T03:52:32.890000Z.2019-06-23T03:55:02.890000Z\n",
      "******** waveform downloaded NC.KCS.EH* from NCEDC.\n",
      " inventory downloaded: 24 out of 54 stations\n",
      "NC.KCT.HH*.2019-06-23T03:52:32.890000Z.2019-06-23T03:55:02.890000Z\n",
      "******** waveform downloaded NC.KCT.HH* from NCEDC.\n",
      " inventory downloaded: 25 out of 54 stations\n",
      "NC.KHBB.HH*.2019-06-23T03:52:32.890000Z.2019-06-23T03:55:02.890000Z\n",
      "******** waveform downloaded NC.KHBB.HH* from NCEDC.\n",
      " inventory downloaded: 26 out of 54 stations\n",
      "NC.KHMB.HH*.2019-06-23T03:52:32.890000Z.2019-06-23T03:55:02.890000Z\n",
      "******** waveform downloaded NC.KHMB.HH* from NCEDC.\n",
      " inventory downloaded: 27 out of 54 stations\n",
      "NC.KIP.EH*.2019-06-23T03:52:32.890000Z.2019-06-23T03:55:02.890000Z\n",
      "******** waveform downloaded NC.KIP.EH* from NCEDC.\n",
      " inventory downloaded: 28 out of 54 stations\n",
      "NC.KKP.EH*.2019-06-23T03:52:32.890000Z.2019-06-23T03:55:02.890000Z\n",
      "******** waveform downloaded NC.KKP.EH* from NCEDC.\n",
      " inventory downloaded: 29 out of 54 stations\n",
      "NC.KMPB.HH*.2019-06-23T03:52:32.890000Z.2019-06-23T03:55:02.890000Z\n",
      "******** waveform downloaded NC.KMPB.HH* from NCEDC.\n",
      " inventory downloaded: 30 out of 54 stations\n",
      "NC.KMR.HH*.2019-06-23T03:52:32.890000Z.2019-06-23T03:55:02.890000Z\n",
      "******** waveform downloaded NC.KMR.HH* from NCEDC.\n",
      " inventory downloaded: 31 out of 54 stations\n",
      "NC.KOM.HN*.2019-06-23T03:52:32.890000Z.2019-06-23T03:55:02.890000Z\n",
      "******** waveform downloaded NC.KOM.HN* from NCEDC.\n",
      " inventory downloaded: 32 out of 54 stations\n",
      "NC.KPP.EH*.2019-06-23T03:52:32.890000Z.2019-06-23T03:55:02.890000Z\n",
      "******** waveform downloaded NC.KPP.EH* from NCEDC.\n",
      " inventory downloaded: 33 out of 54 stations\n",
      "NC.KPR.HN*.2019-06-23T03:52:32.890000Z.2019-06-23T03:55:02.890000Z\n",
      "******** waveform downloaded NC.KPR.HN* from NCEDC.\n",
      " inventory downloaded: 34 out of 54 stations\n",
      "NC.KRP.HH*.2019-06-23T03:52:32.890000Z.2019-06-23T03:55:02.890000Z\n",
      "******** waveform downloaded NC.KRP.HH* from NCEDC.\n",
      " inventory downloaded: 35 out of 54 stations\n",
      "NC.KSM.EH*.2019-06-23T03:52:32.890000Z.2019-06-23T03:55:02.890000Z\n",
      "******** waveform downloaded NC.KSM.EH* from NCEDC.\n",
      " inventory downloaded: 36 out of 54 stations\n"
     ]
    },
    {
     "data": {
      "application/vnd.jupyter.widget-view+json": {
       "model_id": "4859c7de2403448abc6663dc3d32a6d4",
       "version_major": 2,
       "version_minor": 0
      },
      "text/plain": [
       "  0%|          | 0/8 [00:00<?, ?it/s]"
      ]
     },
     "metadata": {},
     "output_type": "display_data"
    },
    {
     "name": "stdout",
     "output_type": "stream",
     "text": [
      "NP.1023.HN*.2019-06-23T03:52:32.890000Z.2019-06-23T03:55:02.890000Z\n",
      "******** waveform downloaded NP.1023.HN* from NCEDC.\n",
      " inventory downloaded: 37 out of 54 stations\n",
      "NP.1580.HN*.2019-06-23T03:52:32.890000Z.2019-06-23T03:55:02.890000Z\n",
      "******** waveform downloaded NP.1580.HN* from NCEDC.\n",
      " inventory downloaded: 38 out of 54 stations\n",
      "NP.1581.HN*.2019-06-23T03:52:32.890000Z.2019-06-23T03:55:02.890000Z\n",
      "******** waveform downloaded NP.1581.HN* from NCEDC.\n",
      " inventory downloaded: 39 out of 54 stations\n",
      "NP.1582.HN*.2019-06-23T03:52:32.890000Z.2019-06-23T03:55:02.890000Z\n",
      "******** waveform downloaded NP.1582.HN* from NCEDC.\n",
      " inventory downloaded: 40 out of 54 stations\n",
      "NP.1584.HN*.2019-06-23T03:52:32.890000Z.2019-06-23T03:55:02.890000Z\n",
      "******** waveform downloaded NP.1584.HN* from NCEDC.\n",
      " inventory downloaded: 41 out of 54 stations\n",
      "NP.1586.HN*.2019-06-23T03:52:32.890000Z.2019-06-23T03:55:02.890000Z\n",
      "******** waveform downloaded NP.1586.HN* from NCEDC.\n",
      " inventory downloaded: 42 out of 54 stations\n",
      "NP.1591.HN*.2019-06-23T03:52:32.890000Z.2019-06-23T03:55:02.890000Z\n",
      "******** waveform downloaded NP.1591.HN* from NCEDC.\n",
      " inventory downloaded: 43 out of 54 stations\n",
      "NP.1725.HN*.2019-06-23T03:52:32.890000Z.2019-06-23T03:55:02.890000Z\n"
     ]
    },
    {
     "data": {
      "application/vnd.jupyter.widget-view+json": {
       "model_id": "a7798d07606f418988dbf542518ef3f6",
       "version_major": 2,
       "version_minor": 0
      },
      "text/plain": [
       "  0%|          | 0/8 [00:00<?, ?it/s]"
      ]
     },
     "metadata": {},
     "output_type": "display_data"
    },
    {
     "name": "stdout",
     "output_type": "stream",
     "text": [
      "B045 already downloaded. Skipping...\n",
      "B046 already downloaded. Skipping...\n",
      "B047 already downloaded. Skipping...\n",
      "B049 already downloaded. Skipping...\n",
      "B932 already downloaded. Skipping...\n",
      "B933 already downloaded. Skipping...\n",
      "B934 already downloaded. Skipping...\n",
      "B935 already downloaded. Skipping...\n",
      "Total success: 43 out of 54 stations\n"
     ]
    }
   ],
   "source": [
    "# reload the module to get the latest changes\n",
    "import sys\n",
    "sys.path.append('./my_funcs')\n",
    "%load_ext autoreload\n",
    "%autoreload 2\n",
    "\n",
    "import glob\n",
    "import os \n",
    "# import the `get_waveforms` local function\n",
    "from my_funcs.get_waveforms import get_waveforms\n",
    "\n",
    "# define the client list i.e. the data centers to download data from\n",
    "client_list = ['IRIS', 'NCEDC']#, 'IRIS', 'SCEDC']\n",
    "\n",
    "# get a list of all the event id folders\n",
    "event_paths = glob.glob(\"../data/eq_data/*\")\n",
    "event_ids = [os.path.basename(path) for path in event_paths]\n",
    "\n",
    "# Read earthquake data\n",
    "eqdf = pd.read_csv(\"../data/above_slab_eq_df.csv\", parse_dates=[\"time\"])\n",
    "\n",
    "# define the priority channels\n",
    "priority_channels = ['HH*', 'BH*', 'HN*', 'EH*']\n",
    "\n",
    "event_ids = ['nc73201181'] # test with one event\n",
    "# loop through each event id and download the data\n",
    "for event_id in event_ids:\n",
    "\n",
    "    # define the output folder\n",
    "    output_folder = f\"../data/eq_data/{event_id}/\"\n",
    "\n",
    "    # check if the event data is already downloaded\n",
    "    if os.path.exists(f\"../data/eq_data/{event_id}/{event_id}.mseed\"):\n",
    "        print(f\"Event {event_id} already downloaded. Skipping...\")\n",
    "        continue\n",
    "\n",
    "    print(f\"Getting data for event {event_id}\")\n",
    "\n",
    "    # Read the inventory\n",
    "    inventory = read_inventory(f\"../data/eq_data/{event_id}/inventory/station_inventory_{event_id}.xml\")\n",
    "\n",
    "    #get the event time, start time and end time\n",
    "    eq = eqdf[eqdf.id == event_id] # get the event details\n",
    "    event_time = UTCDateTime(pd.to_datetime(eq.time.values[0])) # get the event time in UTC format\n",
    "    starttime = event_time - 30 # start time is 30 seconds before the event time\n",
    "    endtime = event_time + 120 # end time is 120 seconds after the event time\n",
    "\n",
    "    # Call the function with the desired parameters\n",
    "    get_waveforms(client_list, inventory, event_id, starttime, endtime, output_folder, priority_channels)\n"
   ]
  }
 ],
 "metadata": {
  "language_info": {
   "name": "python"
  }
 },
 "nbformat": 4,
 "nbformat_minor": 2
}
